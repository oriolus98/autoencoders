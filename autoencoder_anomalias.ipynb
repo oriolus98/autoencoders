{
  "nbformat": 4,
  "nbformat_minor": 0,
  "metadata": {
    "colab": {
      "name": "autoencoder_anomalias.ipynb",
      "provenance": [],
      "collapsed_sections": [],
      "toc_visible": true
    },
    "kernelspec": {
      "name": "python3",
      "display_name": "Python 3"
    },
    "language_info": {
      "name": "python"
    }
  },
  "cells": [
    {
      "cell_type": "markdown",
      "source": [
        "# Autoencoders como detector de anomalías\n",
        "## Deep Learning. Máster en Ciencia de Datos\n",
        "### Oriol Chacón Albero"
      ],
      "metadata": {
        "id": "yyepZlnAYtEh"
      }
    },
    {
      "cell_type": "markdown",
      "source": [
        "En primer lugar necesitamos importar el dataset PHL-EC.csv con datos sobre planetas."
      ],
      "metadata": {
        "id": "kdwotYeEZPyk"
      }
    },
    {
      "cell_type": "code",
      "source": [
        "from google.colab import files\n",
        " \n",
        " \n",
        "uploaded = files.upload()"
      ],
      "metadata": {
        "colab": {
          "resources": {
            "http://localhost:8080/nbextensions/google.colab/files.js": {
              "data": "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",
              "ok": true,
              "headers": [
                [
                  "content-type",
                  "application/javascript"
                ]
              ],
              "status": 200,
              "status_text": ""
            }
          },
          "base_uri": "https://localhost:8080/",
          "height": 73
        },
        "id": "z6Gb4v9rYtp_",
        "outputId": "527b7af2-d539-40c1-dd9d-b0cf63294023"
      },
      "execution_count": null,
      "outputs": [
        {
          "output_type": "display_data",
          "data": {
            "text/plain": [
              "<IPython.core.display.HTML object>"
            ],
            "text/html": [
              "\n",
              "     <input type=\"file\" id=\"files-8b9b7c14-38bc-4fb9-801e-d5922077577d\" name=\"files[]\" multiple disabled\n",
              "        style=\"border:none\" />\n",
              "     <output id=\"result-8b9b7c14-38bc-4fb9-801e-d5922077577d\">\n",
              "      Upload widget is only available when the cell has been executed in the\n",
              "      current browser session. Please rerun this cell to enable.\n",
              "      </output>\n",
              "      <script src=\"/nbextensions/google.colab/files.js\"></script> "
            ]
          },
          "metadata": {}
        },
        {
          "output_type": "stream",
          "name": "stdout",
          "text": [
            "Saving PHL-EC.csv to PHL-EC.csv\n"
          ]
        }
      ]
    },
    {
      "cell_type": "code",
      "source": [
        "import pandas as pd\n",
        "import tensorflow as tf\n",
        "from tensorflow import keras\n",
        "import numpy as np\n",
        "import matplotlib.pyplot as plt\n",
        "import seaborn as sns\n",
        "\n",
        "from sklearn.preprocessing import MinMaxScaler, OrdinalEncoder\n",
        "from sklearn.ensemble import RandomForestClassifier\n",
        "from sklearn.decomposition import PCA"
      ],
      "metadata": {
        "id": "ZrqdOPuzTPMT"
      },
      "execution_count": null,
      "outputs": []
    },
    {
      "cell_type": "code",
      "source": [
        "df = pd.read_csv('PHL-EC.csv')"
      ],
      "metadata": {
        "id": "00GMdS4HTmOC"
      },
      "execution_count": null,
      "outputs": []
    },
    {
      "cell_type": "markdown",
      "source": [
        "# 1. Preprocesado de los datos\n",
        "En primer lugar procesaremos los datos siguiendo los pasos explicados en el paper 'Postulating Exoplanetary Habitability via a Novel Anomaly Detection Method'. Tenemos 3875 planetas, pero no todas las variables están completas. Nos quedaremos solo con las variables que tengan al menos 3700 datos completos:"
      ],
      "metadata": {
        "id": "4ZjT4chiZd8E"
      }
    },
    {
      "cell_type": "code",
      "source": [
        "nulls = []\n",
        "for col in df.columns:\n",
        "    #print(col)\n",
        "    nulls.append((3875 - np.sum(df[col].isnull()))> 3700)\n",
        "\n",
        "df.columns"
      ],
      "metadata": {
        "colab": {
          "base_uri": "https://localhost:8080/"
        },
        "id": "n3-NYhb0Ym5U",
        "outputId": "4042a256-37fd-4b58-aa39-fd232feb06a4"
      },
      "execution_count": null,
      "outputs": [
        {
          "output_type": "execute_result",
          "data": {
            "text/plain": [
              "Index(['P. Name', 'P. Name Kepler', 'P. Name KOI', 'P. Zone Class',\n",
              "       'P. Mass Class', 'P. Composition Class', 'P. Atmosphere Class',\n",
              "       'P. Habitable Class', 'P. Min Mass (EU)', 'P. Mass (EU)',\n",
              "       'P. Max Mass (EU)', 'P. Radius (EU)', 'P. Density (EU)',\n",
              "       'P. Gravity (EU)', 'P. Esc Vel (EU)', 'P. SFlux Min (EU)',\n",
              "       'P. SFlux Mean (EU)', 'P. SFlux Max (EU)', 'P. Teq Min (K)',\n",
              "       'P. Teq Mean (K)', 'P. Teq Max (K)', 'P. Ts Min (K)', 'P. Ts Mean (K)',\n",
              "       'P. Ts Max (K)', 'P. Surf Press (EU)', 'P. Mag', 'P. Appar Size (deg)',\n",
              "       'P. Period (days)', 'P. Sem Major Axis (AU)', 'P. Eccentricity',\n",
              "       'P. Mean Distance (AU)', 'P. Inclination (deg)', 'P. Omega (deg)',\n",
              "       'S. Name', 'S. Name HD', 'S. Name HIP', 'S. Constellation', 'S. Type',\n",
              "       'S. Mass (SU)', 'S. Radius (SU)', 'S. Teff (K)', 'S. Luminosity (SU)',\n",
              "       'S. [Fe/H]', 'S. Age (Gyrs)', 'S. Appar Mag', 'S. Distance (pc)',\n",
              "       'S. RA (hrs)', 'S. DEC (deg)', 'S. Mag from Planet',\n",
              "       'S. Size from Planet (deg)', 'S. No. Planets', 'S. No. Planets HZ',\n",
              "       'S. Hab Zone Min (AU)', 'S. Hab Zone Max (AU)', 'P. HZD', 'P. HZC',\n",
              "       'P. HZA', 'P. HZI', 'P. SPH', 'P. Int ESI', 'P. Surf ESI', 'P. ESI',\n",
              "       'S. HabCat', 'P. Habitable', 'P. Hab Moon', 'P. Confirmed',\n",
              "       'P. Disc. Method', 'P. Disc. Year', 'Unnamed: 68'],\n",
              "      dtype='object')"
            ]
          },
          "metadata": {},
          "execution_count": 324
        }
      ]
    },
    {
      "cell_type": "code",
      "source": [
        "df = df.loc[:,nulls]\n",
        "df"
      ],
      "metadata": {
        "colab": {
          "base_uri": "https://localhost:8080/",
          "height": 696
        },
        "id": "XEfWczVGY8Y8",
        "outputId": "33df469a-2992-4be4-f6ba-5900362efc1d"
      },
      "execution_count": null,
      "outputs": [
        {
          "output_type": "execute_result",
          "data": {
            "text/plain": [
              "               P. Name P. Zone Class P. Mass Class P. Composition Class  \\\n",
              "0          1RXS 1609 b          Cold        Jovian                  gas   \n",
              "1       1SWASP J1407 b          Cold        Jovian                  gas   \n",
              "2     2M 0103-55(AB) b          Cold        Jovian                  gas   \n",
              "3         2M 0122-24 b          Cold        Jovian                  gas   \n",
              "4         2M 0219-39 b          Cold        Jovian                  gas   \n",
              "...                ...           ...           ...                  ...   \n",
              "3870         YBP1194 b           Hot        Jovian                  gas   \n",
              "3871         YBP1514 b           Hot        Jovian                  gas   \n",
              "3872          YZ Cet b           Hot        Terran           rocky-iron   \n",
              "3873          YZ Cet c           Hot        Terran           rocky-iron   \n",
              "3874          YZ Cet d           Hot        Terran           rocky-iron   \n",
              "\n",
              "     P. Atmosphere Class P. Habitable Class  P. Mass (EU)  P. Radius (EU)  \\\n",
              "0          hydrogen-rich      non-habitable       4451.16           19.04   \n",
              "1          hydrogen-rich      non-habitable       6358.80           10.94   \n",
              "2          hydrogen-rich      non-habitable       4133.22           11.40   \n",
              "3          hydrogen-rich      non-habitable       6358.80           11.20   \n",
              "4          hydrogen-rich      non-habitable       4419.37           16.13   \n",
              "...                  ...                ...           ...             ...   \n",
              "3870         metals-rich      non-habitable        108.10            7.97   \n",
              "3871         metals-rich      non-habitable        127.18            8.34   \n",
              "3872         metals-rich      non-habitable          0.76            0.96   \n",
              "3873         metals-rich      non-habitable          0.99            1.04   \n",
              "3874         metals-rich      non-habitable          1.14            1.09   \n",
              "\n",
              "      P. Density (EU)  P. Gravity (EU)  ...  P. HZI P. Int ESI P. Surf ESI  \\\n",
              "0                0.64            12.28  ...    0.00          0           0   \n",
              "1                4.86            53.12  ...    0.02          0           0   \n",
              "2                2.79            31.79  ...    0.00          0           0   \n",
              "3                4.53            50.69  ...    0.00          0           0   \n",
              "4                1.05            16.99  ...    0.00          0           0   \n",
              "...               ...              ...  ...     ...        ...         ...   \n",
              "3870             0.21             1.70  ...    0.15          0           0   \n",
              "3871             0.22             1.83  ...    0.15          0           0   \n",
              "3872             0.86             0.83  ...    0.34          0           0   \n",
              "3873             0.88             0.91  ...    0.36          0           0   \n",
              "3874             0.89             0.97  ...    0.40          0           0   \n",
              "\n",
              "     P. ESI  S. HabCat  P. Habitable  P. Hab Moon  P. Confirmed  \\\n",
              "0      0.05          0             0            0             1   \n",
              "1      0.07          0             0            0             1   \n",
              "2      0.06          0             0            0             1   \n",
              "3      0.08          0             0            0             1   \n",
              "4      0.06          0             0            0             1   \n",
              "...     ...        ...           ...          ...           ...   \n",
              "3870   0.16          0             0            0             1   \n",
              "3871   0.15          0             0            0             1   \n",
              "3872   0.43          0             0            0             1   \n",
              "3873   0.53          0             0            0             1   \n",
              "3874   0.65          0             0            0             1   \n",
              "\n",
              "      P. Disc. Method  P. Disc. Year  \n",
              "0             Imaging           2008  \n",
              "1     Primary Transit           2012  \n",
              "2             Imaging           2013  \n",
              "3             Imaging           2013  \n",
              "4             Imaging           2015  \n",
              "...               ...            ...  \n",
              "3870  Radial Velocity           2014  \n",
              "3871  Radial Velocity           2014  \n",
              "3872  Radial Velocity           2017  \n",
              "3873  Radial Velocity           2017  \n",
              "3874  Radial Velocity           2017  \n",
              "\n",
              "[3875 rows x 53 columns]"
            ],
            "text/html": [
              "\n",
              "  <div id=\"df-34cdef6c-52d9-45d7-879d-79c05d0845b1\">\n",
              "    <div class=\"colab-df-container\">\n",
              "      <div>\n",
              "<style scoped>\n",
              "    .dataframe tbody tr th:only-of-type {\n",
              "        vertical-align: middle;\n",
              "    }\n",
              "\n",
              "    .dataframe tbody tr th {\n",
              "        vertical-align: top;\n",
              "    }\n",
              "\n",
              "    .dataframe thead th {\n",
              "        text-align: right;\n",
              "    }\n",
              "</style>\n",
              "<table border=\"1\" class=\"dataframe\">\n",
              "  <thead>\n",
              "    <tr style=\"text-align: right;\">\n",
              "      <th></th>\n",
              "      <th>P. Name</th>\n",
              "      <th>P. Zone Class</th>\n",
              "      <th>P. Mass Class</th>\n",
              "      <th>P. Composition Class</th>\n",
              "      <th>P. Atmosphere Class</th>\n",
              "      <th>P. Habitable Class</th>\n",
              "      <th>P. Mass (EU)</th>\n",
              "      <th>P. Radius (EU)</th>\n",
              "      <th>P. Density (EU)</th>\n",
              "      <th>P. Gravity (EU)</th>\n",
              "      <th>...</th>\n",
              "      <th>P. HZI</th>\n",
              "      <th>P. Int ESI</th>\n",
              "      <th>P. Surf ESI</th>\n",
              "      <th>P. ESI</th>\n",
              "      <th>S. HabCat</th>\n",
              "      <th>P. Habitable</th>\n",
              "      <th>P. Hab Moon</th>\n",
              "      <th>P. Confirmed</th>\n",
              "      <th>P. Disc. Method</th>\n",
              "      <th>P. Disc. Year</th>\n",
              "    </tr>\n",
              "  </thead>\n",
              "  <tbody>\n",
              "    <tr>\n",
              "      <th>0</th>\n",
              "      <td>1RXS 1609 b</td>\n",
              "      <td>Cold</td>\n",
              "      <td>Jovian</td>\n",
              "      <td>gas</td>\n",
              "      <td>hydrogen-rich</td>\n",
              "      <td>non-habitable</td>\n",
              "      <td>4451.16</td>\n",
              "      <td>19.04</td>\n",
              "      <td>0.64</td>\n",
              "      <td>12.28</td>\n",
              "      <td>...</td>\n",
              "      <td>0.00</td>\n",
              "      <td>0</td>\n",
              "      <td>0</td>\n",
              "      <td>0.05</td>\n",
              "      <td>0</td>\n",
              "      <td>0</td>\n",
              "      <td>0</td>\n",
              "      <td>1</td>\n",
              "      <td>Imaging</td>\n",
              "      <td>2008</td>\n",
              "    </tr>\n",
              "    <tr>\n",
              "      <th>1</th>\n",
              "      <td>1SWASP J1407 b</td>\n",
              "      <td>Cold</td>\n",
              "      <td>Jovian</td>\n",
              "      <td>gas</td>\n",
              "      <td>hydrogen-rich</td>\n",
              "      <td>non-habitable</td>\n",
              "      <td>6358.80</td>\n",
              "      <td>10.94</td>\n",
              "      <td>4.86</td>\n",
              "      <td>53.12</td>\n",
              "      <td>...</td>\n",
              "      <td>0.02</td>\n",
              "      <td>0</td>\n",
              "      <td>0</td>\n",
              "      <td>0.07</td>\n",
              "      <td>0</td>\n",
              "      <td>0</td>\n",
              "      <td>0</td>\n",
              "      <td>1</td>\n",
              "      <td>Primary Transit</td>\n",
              "      <td>2012</td>\n",
              "    </tr>\n",
              "    <tr>\n",
              "      <th>2</th>\n",
              "      <td>2M 0103-55(AB) b</td>\n",
              "      <td>Cold</td>\n",
              "      <td>Jovian</td>\n",
              "      <td>gas</td>\n",
              "      <td>hydrogen-rich</td>\n",
              "      <td>non-habitable</td>\n",
              "      <td>4133.22</td>\n",
              "      <td>11.40</td>\n",
              "      <td>2.79</td>\n",
              "      <td>31.79</td>\n",
              "      <td>...</td>\n",
              "      <td>0.00</td>\n",
              "      <td>0</td>\n",
              "      <td>0</td>\n",
              "      <td>0.06</td>\n",
              "      <td>0</td>\n",
              "      <td>0</td>\n",
              "      <td>0</td>\n",
              "      <td>1</td>\n",
              "      <td>Imaging</td>\n",
              "      <td>2013</td>\n",
              "    </tr>\n",
              "    <tr>\n",
              "      <th>3</th>\n",
              "      <td>2M 0122-24 b</td>\n",
              "      <td>Cold</td>\n",
              "      <td>Jovian</td>\n",
              "      <td>gas</td>\n",
              "      <td>hydrogen-rich</td>\n",
              "      <td>non-habitable</td>\n",
              "      <td>6358.80</td>\n",
              "      <td>11.20</td>\n",
              "      <td>4.53</td>\n",
              "      <td>50.69</td>\n",
              "      <td>...</td>\n",
              "      <td>0.00</td>\n",
              "      <td>0</td>\n",
              "      <td>0</td>\n",
              "      <td>0.08</td>\n",
              "      <td>0</td>\n",
              "      <td>0</td>\n",
              "      <td>0</td>\n",
              "      <td>1</td>\n",
              "      <td>Imaging</td>\n",
              "      <td>2013</td>\n",
              "    </tr>\n",
              "    <tr>\n",
              "      <th>4</th>\n",
              "      <td>2M 0219-39 b</td>\n",
              "      <td>Cold</td>\n",
              "      <td>Jovian</td>\n",
              "      <td>gas</td>\n",
              "      <td>hydrogen-rich</td>\n",
              "      <td>non-habitable</td>\n",
              "      <td>4419.37</td>\n",
              "      <td>16.13</td>\n",
              "      <td>1.05</td>\n",
              "      <td>16.99</td>\n",
              "      <td>...</td>\n",
              "      <td>0.00</td>\n",
              "      <td>0</td>\n",
              "      <td>0</td>\n",
              "      <td>0.06</td>\n",
              "      <td>0</td>\n",
              "      <td>0</td>\n",
              "      <td>0</td>\n",
              "      <td>1</td>\n",
              "      <td>Imaging</td>\n",
              "      <td>2015</td>\n",
              "    </tr>\n",
              "    <tr>\n",
              "      <th>...</th>\n",
              "      <td>...</td>\n",
              "      <td>...</td>\n",
              "      <td>...</td>\n",
              "      <td>...</td>\n",
              "      <td>...</td>\n",
              "      <td>...</td>\n",
              "      <td>...</td>\n",
              "      <td>...</td>\n",
              "      <td>...</td>\n",
              "      <td>...</td>\n",
              "      <td>...</td>\n",
              "      <td>...</td>\n",
              "      <td>...</td>\n",
              "      <td>...</td>\n",
              "      <td>...</td>\n",
              "      <td>...</td>\n",
              "      <td>...</td>\n",
              "      <td>...</td>\n",
              "      <td>...</td>\n",
              "      <td>...</td>\n",
              "      <td>...</td>\n",
              "    </tr>\n",
              "    <tr>\n",
              "      <th>3870</th>\n",
              "      <td>YBP1194 b</td>\n",
              "      <td>Hot</td>\n",
              "      <td>Jovian</td>\n",
              "      <td>gas</td>\n",
              "      <td>metals-rich</td>\n",
              "      <td>non-habitable</td>\n",
              "      <td>108.10</td>\n",
              "      <td>7.97</td>\n",
              "      <td>0.21</td>\n",
              "      <td>1.70</td>\n",
              "      <td>...</td>\n",
              "      <td>0.15</td>\n",
              "      <td>0</td>\n",
              "      <td>0</td>\n",
              "      <td>0.16</td>\n",
              "      <td>0</td>\n",
              "      <td>0</td>\n",
              "      <td>0</td>\n",
              "      <td>1</td>\n",
              "      <td>Radial Velocity</td>\n",
              "      <td>2014</td>\n",
              "    </tr>\n",
              "    <tr>\n",
              "      <th>3871</th>\n",
              "      <td>YBP1514 b</td>\n",
              "      <td>Hot</td>\n",
              "      <td>Jovian</td>\n",
              "      <td>gas</td>\n",
              "      <td>metals-rich</td>\n",
              "      <td>non-habitable</td>\n",
              "      <td>127.18</td>\n",
              "      <td>8.34</td>\n",
              "      <td>0.22</td>\n",
              "      <td>1.83</td>\n",
              "      <td>...</td>\n",
              "      <td>0.15</td>\n",
              "      <td>0</td>\n",
              "      <td>0</td>\n",
              "      <td>0.15</td>\n",
              "      <td>0</td>\n",
              "      <td>0</td>\n",
              "      <td>0</td>\n",
              "      <td>1</td>\n",
              "      <td>Radial Velocity</td>\n",
              "      <td>2014</td>\n",
              "    </tr>\n",
              "    <tr>\n",
              "      <th>3872</th>\n",
              "      <td>YZ Cet b</td>\n",
              "      <td>Hot</td>\n",
              "      <td>Terran</td>\n",
              "      <td>rocky-iron</td>\n",
              "      <td>metals-rich</td>\n",
              "      <td>non-habitable</td>\n",
              "      <td>0.76</td>\n",
              "      <td>0.96</td>\n",
              "      <td>0.86</td>\n",
              "      <td>0.83</td>\n",
              "      <td>...</td>\n",
              "      <td>0.34</td>\n",
              "      <td>0</td>\n",
              "      <td>0</td>\n",
              "      <td>0.43</td>\n",
              "      <td>0</td>\n",
              "      <td>0</td>\n",
              "      <td>0</td>\n",
              "      <td>1</td>\n",
              "      <td>Radial Velocity</td>\n",
              "      <td>2017</td>\n",
              "    </tr>\n",
              "    <tr>\n",
              "      <th>3873</th>\n",
              "      <td>YZ Cet c</td>\n",
              "      <td>Hot</td>\n",
              "      <td>Terran</td>\n",
              "      <td>rocky-iron</td>\n",
              "      <td>metals-rich</td>\n",
              "      <td>non-habitable</td>\n",
              "      <td>0.99</td>\n",
              "      <td>1.04</td>\n",
              "      <td>0.88</td>\n",
              "      <td>0.91</td>\n",
              "      <td>...</td>\n",
              "      <td>0.36</td>\n",
              "      <td>0</td>\n",
              "      <td>0</td>\n",
              "      <td>0.53</td>\n",
              "      <td>0</td>\n",
              "      <td>0</td>\n",
              "      <td>0</td>\n",
              "      <td>1</td>\n",
              "      <td>Radial Velocity</td>\n",
              "      <td>2017</td>\n",
              "    </tr>\n",
              "    <tr>\n",
              "      <th>3874</th>\n",
              "      <td>YZ Cet d</td>\n",
              "      <td>Hot</td>\n",
              "      <td>Terran</td>\n",
              "      <td>rocky-iron</td>\n",
              "      <td>metals-rich</td>\n",
              "      <td>non-habitable</td>\n",
              "      <td>1.14</td>\n",
              "      <td>1.09</td>\n",
              "      <td>0.89</td>\n",
              "      <td>0.97</td>\n",
              "      <td>...</td>\n",
              "      <td>0.40</td>\n",
              "      <td>0</td>\n",
              "      <td>0</td>\n",
              "      <td>0.65</td>\n",
              "      <td>0</td>\n",
              "      <td>0</td>\n",
              "      <td>0</td>\n",
              "      <td>1</td>\n",
              "      <td>Radial Velocity</td>\n",
              "      <td>2017</td>\n",
              "    </tr>\n",
              "  </tbody>\n",
              "</table>\n",
              "<p>3875 rows × 53 columns</p>\n",
              "</div>\n",
              "      <button class=\"colab-df-convert\" onclick=\"convertToInteractive('df-34cdef6c-52d9-45d7-879d-79c05d0845b1')\"\n",
              "              title=\"Convert this dataframe to an interactive table.\"\n",
              "              style=\"display:none;\">\n",
              "        \n",
              "  <svg xmlns=\"http://www.w3.org/2000/svg\" height=\"24px\"viewBox=\"0 0 24 24\"\n",
              "       width=\"24px\">\n",
              "    <path d=\"M0 0h24v24H0V0z\" fill=\"none\"/>\n",
              "    <path d=\"M18.56 5.44l.94 2.06.94-2.06 2.06-.94-2.06-.94-.94-2.06-.94 2.06-2.06.94zm-11 1L8.5 8.5l.94-2.06 2.06-.94-2.06-.94L8.5 2.5l-.94 2.06-2.06.94zm10 10l.94 2.06.94-2.06 2.06-.94-2.06-.94-.94-2.06-.94 2.06-2.06.94z\"/><path d=\"M17.41 7.96l-1.37-1.37c-.4-.4-.92-.59-1.43-.59-.52 0-1.04.2-1.43.59L10.3 9.45l-7.72 7.72c-.78.78-.78 2.05 0 2.83L4 21.41c.39.39.9.59 1.41.59.51 0 1.02-.2 1.41-.59l7.78-7.78 2.81-2.81c.8-.78.8-2.07 0-2.86zM5.41 20L4 18.59l7.72-7.72 1.47 1.35L5.41 20z\"/>\n",
              "  </svg>\n",
              "      </button>\n",
              "      \n",
              "  <style>\n",
              "    .colab-df-container {\n",
              "      display:flex;\n",
              "      flex-wrap:wrap;\n",
              "      gap: 12px;\n",
              "    }\n",
              "\n",
              "    .colab-df-convert {\n",
              "      background-color: #E8F0FE;\n",
              "      border: none;\n",
              "      border-radius: 50%;\n",
              "      cursor: pointer;\n",
              "      display: none;\n",
              "      fill: #1967D2;\n",
              "      height: 32px;\n",
              "      padding: 0 0 0 0;\n",
              "      width: 32px;\n",
              "    }\n",
              "\n",
              "    .colab-df-convert:hover {\n",
              "      background-color: #E2EBFA;\n",
              "      box-shadow: 0px 1px 2px rgba(60, 64, 67, 0.3), 0px 1px 3px 1px rgba(60, 64, 67, 0.15);\n",
              "      fill: #174EA6;\n",
              "    }\n",
              "\n",
              "    [theme=dark] .colab-df-convert {\n",
              "      background-color: #3B4455;\n",
              "      fill: #D2E3FC;\n",
              "    }\n",
              "\n",
              "    [theme=dark] .colab-df-convert:hover {\n",
              "      background-color: #434B5C;\n",
              "      box-shadow: 0px 1px 3px 1px rgba(0, 0, 0, 0.15);\n",
              "      filter: drop-shadow(0px 1px 2px rgba(0, 0, 0, 0.3));\n",
              "      fill: #FFFFFF;\n",
              "    }\n",
              "  </style>\n",
              "\n",
              "      <script>\n",
              "        const buttonEl =\n",
              "          document.querySelector('#df-34cdef6c-52d9-45d7-879d-79c05d0845b1 button.colab-df-convert');\n",
              "        buttonEl.style.display =\n",
              "          google.colab.kernel.accessAllowed ? 'block' : 'none';\n",
              "\n",
              "        async function convertToInteractive(key) {\n",
              "          const element = document.querySelector('#df-34cdef6c-52d9-45d7-879d-79c05d0845b1');\n",
              "          const dataTable =\n",
              "            await google.colab.kernel.invokeFunction('convertToInteractive',\n",
              "                                                     [key], {});\n",
              "          if (!dataTable) return;\n",
              "\n",
              "          const docLinkHtml = 'Like what you see? Visit the ' +\n",
              "            '<a target=\"_blank\" href=https://colab.research.google.com/notebooks/data_table.ipynb>data table notebook</a>'\n",
              "            + ' to learn more about interactive tables.';\n",
              "          element.innerHTML = '';\n",
              "          dataTable['output_type'] = 'display_data';\n",
              "          await google.colab.output.renderOutput(dataTable, element);\n",
              "          const docLink = document.createElement('div');\n",
              "          docLink.innerHTML = docLinkHtml;\n",
              "          element.appendChild(docLink);\n",
              "        }\n",
              "      </script>\n",
              "    </div>\n",
              "  </div>\n",
              "  "
            ]
          },
          "metadata": {},
          "execution_count": 325
        }
      ]
    },
    {
      "cell_type": "markdown",
      "source": [
        "En la variable y guardaremos las etiquetas de los planetas: un 1 indicará que el planeta es habitable."
      ],
      "metadata": {
        "id": "AOlKsMLkamB8"
      }
    },
    {
      "cell_type": "code",
      "source": [
        "y = df.loc[:,'P. Habitable Class']\n",
        "\n",
        "for i in range(len(y)):\n",
        "  if y[i] == 'non-habitable':\n",
        "    y[i] = 0\n",
        "  else:\n",
        "    y[i] = 1\n",
        "\n",
        "y.unique()"
      ],
      "metadata": {
        "colab": {
          "base_uri": "https://localhost:8080/"
        },
        "id": "GgB6M_6XfW4K",
        "outputId": "0a8536eb-0160-474d-a4d4-26071e7f5b7d"
      },
      "execution_count": null,
      "outputs": [
        {
          "output_type": "stream",
          "name": "stderr",
          "text": [
            "/usr/local/lib/python3.7/dist-packages/ipykernel_launcher.py:5: SettingWithCopyWarning: \n",
            "A value is trying to be set on a copy of a slice from a DataFrame\n",
            "\n",
            "See the caveats in the documentation: https://pandas.pydata.org/pandas-docs/stable/user_guide/indexing.html#returning-a-view-versus-a-copy\n",
            "  \"\"\"\n",
            "/usr/local/lib/python3.7/dist-packages/ipykernel_launcher.py:7: SettingWithCopyWarning: \n",
            "A value is trying to be set on a copy of a slice from a DataFrame\n",
            "\n",
            "See the caveats in the documentation: https://pandas.pydata.org/pandas-docs/stable/user_guide/indexing.html#returning-a-view-versus-a-copy\n",
            "  import sys\n"
          ]
        },
        {
          "output_type": "execute_result",
          "data": {
            "text/plain": [
              "array([0, 1], dtype=object)"
            ]
          },
          "metadata": {},
          "execution_count": 326
        }
      ]
    },
    {
      "cell_type": "markdown",
      "source": [
        "A continuación, los autores de la publicación consideran conveniente eliminar las variables categóricas. Sin embargo, algunas de éstas parecen importantes a la hora de determinar la habitabilidad de un planeta. Por ejemplo, no parece posible que un planeta gaseoso sea habitable. Por lo tanto, utilizaremos la función OrdinalEncoder de sklearn para codificar estas variables categóricas como numéricas."
      ],
      "metadata": {
        "id": "Xi3eDsTeazDZ"
      }
    },
    {
      "cell_type": "code",
      "source": [
        "df['P. Mass Class'] = OrdinalEncoder().fit_transform(np.array(df['P. Mass Class']).reshape(-1, 1))\n",
        "df['P. Zone Class'] = OrdinalEncoder().fit_transform(np.array(df['P. Zone Class']).reshape(-1, 1))\n",
        "df['P. Composition Class'] = OrdinalEncoder().fit_transform(np.array(df['P. Composition Class']).reshape(-1, 1))\n",
        "df['P. Atmosphere Class'] = OrdinalEncoder().fit_transform(np.array(df['P. Atmosphere Class']).reshape(-1, 1))"
      ],
      "metadata": {
        "id": "YY2SKvA1-r4C"
      },
      "execution_count": null,
      "outputs": []
    },
    {
      "cell_type": "markdown",
      "source": [
        "Eliminamos las variables con información irrelevante a la hora de determinar si el planeta es habitable o no:"
      ],
      "metadata": {
        "id": "n0ZZp7uwk2tx"
      }
    },
    {
      "cell_type": "code",
      "source": [
        "# variables irrelevantes\n",
        "df = df.loc[:,df.columns != 'P. Name'] # nombre del planeta\n",
        "df = df.loc[:,df.columns != 'P. Habitable Class'] # tipo de planeta habitable\n",
        "df = df.loc[:,df.columns != 'S. Name']  # nombre de la estrella\n",
        "df = df.loc[:,df.columns != 'P. Disc. Year'] # año de detección\n",
        "df = df.loc[:,df.columns != 'S. Constellation'] # constelación\n",
        "df = df.loc[:,df.columns != 'S. No. Planets'] # número de planetas\n",
        "df = df.loc[:,df.columns != 'P. Disc. Method'] # método de detección\n",
        "df = df.loc[:,df.columns != 'S. No. Planets HZ'] # número de planetas en la zona habitable\n",
        "\n",
        "# variables categóricas\n",
        "df = df.loc[:,df.columns != 'P. Confirmed']\n",
        "df = df.loc[:, df.columns != 'S. Type']"
      ],
      "metadata": {
        "id": "7YAld9Ykg97k"
      },
      "execution_count": null,
      "outputs": []
    },
    {
      "cell_type": "markdown",
      "source": [
        "Ahora podemos eliminar los registros con datos faltantes. Por un lado, imputar los valores faltantes no parece una solución realista, y por otro, conservamos la enorme mayoría de los datos (3632). "
      ],
      "metadata": {
        "id": "oF-B6aD7b6_c"
      }
    },
    {
      "cell_type": "code",
      "source": [
        "df = df.loc[:,df.columns != 'P. Habitable'] # eliminamos la variable habitabilidad\n",
        "df = df.dropna()\n",
        "y = y[df.index]"
      ],
      "metadata": {
        "id": "LSCH3DQ1jpmV"
      },
      "execution_count": null,
      "outputs": []
    },
    {
      "cell_type": "markdown",
      "source": [
        "También debemos convertir los datos de SFlux a numérico."
      ],
      "metadata": {
        "id": "XxK9M33Ac3Dw"
      }
    },
    {
      "cell_type": "code",
      "source": [
        "df[\"P. SFlux Min (EU)\"] = pd.to_numeric(df[\"P. SFlux Min (EU)\"],errors='coerce')\n",
        "df[\"P. SFlux Mean (EU)\"] = pd.to_numeric(df[\"P. SFlux Mean (EU)\"],errors='coerce')\n",
        "df[\"P. SFlux Max (EU)\"] = pd.to_numeric(df[\"P. SFlux Max (EU)\"],errors='coerce')"
      ],
      "metadata": {
        "id": "hQWZO8md4nyX"
      },
      "execution_count": null,
      "outputs": []
    },
    {
      "cell_type": "markdown",
      "source": [
        "En mi primera aproximación al problema, el preprocesado de los datos terminaba aquí. Sin embargo, los resultados no eran demasiado prometedores: muchos planetas no habitables eran considerados como habitables y obteníamos una métrica de precisión inferior al 20%. Por lo tanto, aunque quizá no es la aproximación que se pedía para este problema, decidí seleccionar de antemano aquellas variables más importantes a la hora de determinar si un planeta es habitable o no mediante un random forest:"
      ],
      "metadata": {
        "id": "FUFBIS3RYeVj"
      }
    },
    {
      "cell_type": "code",
      "source": [
        "from sklearn.ensemble import RandomForestClassifier\n",
        "y=y.astype('int')\n",
        "names = df.columns\n",
        "df = MinMaxScaler().fit_transform(df)\n",
        "clf = RandomForestClassifier()\n",
        "\n",
        "clf.fit(df, y)\n"
      ],
      "metadata": {
        "colab": {
          "base_uri": "https://localhost:8080/"
        },
        "id": "QdtPE8n5_yE9",
        "outputId": "88a1aefa-6875-4e9d-979b-c1bf4ed8a0f4"
      },
      "execution_count": null,
      "outputs": [
        {
          "output_type": "execute_result",
          "data": {
            "text/plain": [
              "RandomForestClassifier()"
            ]
          },
          "metadata": {},
          "execution_count": 319
        }
      ]
    },
    {
      "cell_type": "code",
      "source": [
        "plt.bar(names,clf.feature_importances_)\n",
        "plt.xticks(rotation = 90)"
      ],
      "metadata": {
        "colab": {
          "base_uri": "https://localhost:8080/",
          "height": 1000
        },
        "id": "IUilnE3fBNbK",
        "outputId": "2924e9f1-a166-482a-e9cf-f28b0d189f09"
      },
      "execution_count": null,
      "outputs": [
        {
          "output_type": "execute_result",
          "data": {
            "text/plain": [
              "([0,\n",
              "  1,\n",
              "  2,\n",
              "  3,\n",
              "  4,\n",
              "  5,\n",
              "  6,\n",
              "  7,\n",
              "  8,\n",
              "  9,\n",
              "  10,\n",
              "  11,\n",
              "  12,\n",
              "  13,\n",
              "  14,\n",
              "  15,\n",
              "  16,\n",
              "  17,\n",
              "  18,\n",
              "  19,\n",
              "  20,\n",
              "  21,\n",
              "  22,\n",
              "  23,\n",
              "  24,\n",
              "  25,\n",
              "  26,\n",
              "  27,\n",
              "  28,\n",
              "  29,\n",
              "  30,\n",
              "  31,\n",
              "  32,\n",
              "  33,\n",
              "  34,\n",
              "  35,\n",
              "  36,\n",
              "  37,\n",
              "  38,\n",
              "  39,\n",
              "  40,\n",
              "  41],\n",
              " <a list of 42 Text major ticklabel objects>)"
            ]
          },
          "metadata": {},
          "execution_count": 320
        },
        {
          "output_type": "display_data",
          "data": {
            "text/plain": [
              "<Figure size 432x288 with 1 Axes>"
            ],
            "image/png": "[encoded data removed]"
          },
          "metadata": {
            "needs_background": "light"
          }
        }
      ]
    },
    {
      "cell_type": "code",
      "source": [
        "print((clf.feature_importances_>0.025)*names)\n",
        "df = df[['P. Zone Class', 'P. Mass Class', 'P. Composition Class', 'P. Radius (EU)','P. Teq Min (K)','P. Mag',\n",
        "       'P. Appar Size (deg)', 'S. Mag from Planet','P. HZD', 'P. HZC','P. HZI','P. ESI']]"
      ],
      "metadata": {
        "colab": {
          "base_uri": "https://localhost:8080/"
        },
        "id": "YRneNlEvIzBF",
        "outputId": "a779fe34-84b6-477c-b75a-1acab3a54f55"
      },
      "execution_count": null,
      "outputs": [
        {
          "output_type": "stream",
          "name": "stdout",
          "text": [
            "Index(['P. Zone Class', 'P. Mass Class', 'P. Composition Class', '', '',\n",
            "       'P. Radius (EU)', '', '', '', '', '', '', '', '', '', '', 'P. Mag',\n",
            "       'P. Appar Size (deg)', '', '', '', '', '', '', '', '', '', '', '', '',\n",
            "       '', '', '', 'P. HZD', 'P. HZC', '', 'P. HZI', '', '', 'P. ESI', '', ''],\n",
            "      dtype='object')\n"
          ]
        }
      ]
    },
    {
      "cell_type": "markdown",
      "source": [
        "# 2. PCA + Autoencoder\n",
        "Una vez preprocesado el dataset procedemos a utilizar un autoencoder como detector de anomalías. Asumimos que los planetas habitables son una anomalía dentro del conjunto de planetas no habitables. Por lo tanto, podemos construir un autoencoder y entrenarlo únicamente con datos de planetas no habitables de forma que al intentar reconstruir datos de planetas habitables, el error de reconstrucción será mayor.\n",
        "\n",
        "En este primer caso no necesitamos revisar la correlación entre las variables, ya que la PCA nos proporcionará las 10 variables descorrelacionadas más representativas de los datos:"
      ],
      "metadata": {
        "id": "CQ95pZ0eZT7q"
      }
    },
    {
      "cell_type": "code",
      "source": [
        "df = MinMaxScaler().fit_transform(df)\n",
        "data = PCA(n_components = 10).fit_transform(df)"
      ],
      "metadata": {
        "id": "glqcJ-wEsO-L"
      },
      "execution_count": null,
      "outputs": []
    },
    {
      "cell_type": "code",
      "source": [
        "x_train = data[y == 0,:]"
      ],
      "metadata": {
        "id": "fHGb7X2Hz5oZ"
      },
      "execution_count": null,
      "outputs": []
    },
    {
      "cell_type": "code",
      "source": [
        "inp = keras.layers.Input(shape = (10,))\n",
        "codif = keras.layers.Dense(32, activation = 'relu')(inp)\n",
        "codif = keras.layers.Dropout(0.2)(codif)\n",
        "codif = keras.layers.Dense(16, activation = 'relu')(codif)\n",
        "codif = keras.layers.Dense(5, activation = 'relu')(codif)\n",
        "decod = keras.layers.Dense(16, activation = 'relu')(codif)\n",
        "codif = keras.layers.Dropout(0.2)(decod)\n",
        "decod = keras.layers.Dense(32, activation = 'relu')(decod)\n",
        "decod = keras.layers.Dense(10, activation = tf.nn.tanh)(decod)\n",
        "\n",
        "autoencoderAD = keras.Model(inp, decod)\n",
        "autoencoderAD.compile(optimizer = 'adam', loss = 'mse')\n",
        "\n",
        "history = autoencoderAD.fit(x_train, x_train, epochs = 100)"
      ],
      "metadata": {
        "colab": {
          "base_uri": "https://localhost:8080/"
        },
        "id": "pTFIlqcat_pb",
        "outputId": "40b17c1d-fc2f-4475-dad6-7a856e5aa791"
      },
      "execution_count": null,
      "outputs": [
        {
          "output_type": "stream",
          "name": "stdout",
          "text": [
            "Epoch 1/100\n",
            "112/112 [==============================] - 1s 2ms/step - loss: 0.0206\n",
            "Epoch 2/100\n",
            "112/112 [==============================] - 0s 2ms/step - loss: 0.0073\n",
            "Epoch 3/100\n",
            "112/112 [==============================] - 0s 2ms/step - loss: 0.0056\n",
            "Epoch 4/100\n",
            "112/112 [==============================] - 0s 2ms/step - loss: 0.0047\n",
            "Epoch 5/100\n",
            "112/112 [==============================] - 0s 2ms/step - loss: 0.0039\n",
            "Epoch 6/100\n",
            "112/112 [==============================] - 0s 2ms/step - loss: 0.0032\n",
            "Epoch 7/100\n",
            "112/112 [==============================] - 0s 2ms/step - loss: 0.0025\n",
            "Epoch 8/100\n",
            "112/112 [==============================] - 0s 2ms/step - loss: 0.0021\n",
            "Epoch 9/100\n",
            "112/112 [==============================] - 0s 2ms/step - loss: 0.0019\n",
            "Epoch 10/100\n",
            "112/112 [==============================] - 0s 2ms/step - loss: 0.0018\n",
            "Epoch 11/100\n",
            "112/112 [==============================] - 0s 2ms/step - loss: 0.0017\n",
            "Epoch 12/100\n",
            "112/112 [==============================] - 0s 2ms/step - loss: 0.0016\n",
            "Epoch 13/100\n",
            "112/112 [==============================] - 0s 2ms/step - loss: 0.0015\n",
            "Epoch 14/100\n",
            "112/112 [==============================] - 0s 2ms/step - loss: 0.0015\n",
            "Epoch 15/100\n",
            "112/112 [==============================] - 0s 2ms/step - loss: 0.0013\n",
            "Epoch 16/100\n",
            "112/112 [==============================] - 0s 2ms/step - loss: 0.0013\n",
            "Epoch 17/100\n",
            "112/112 [==============================] - 0s 2ms/step - loss: 0.0013\n",
            "Epoch 18/100\n",
            "112/112 [==============================] - 0s 2ms/step - loss: 0.0012\n",
            "Epoch 19/100\n",
            "112/112 [==============================] - 0s 2ms/step - loss: 0.0012\n",
            "Epoch 20/100\n",
            "112/112 [==============================] - 0s 2ms/step - loss: 0.0011\n",
            "Epoch 21/100\n",
            "112/112 [==============================] - 0s 2ms/step - loss: 0.0011\n",
            "Epoch 22/100\n",
            "112/112 [==============================] - 0s 2ms/step - loss: 0.0011\n",
            "Epoch 23/100\n",
            "112/112 [==============================] - 0s 2ms/step - loss: 0.0011\n",
            "Epoch 24/100\n",
            "112/112 [==============================] - 0s 2ms/step - loss: 0.0011\n",
            "Epoch 25/100\n",
            "112/112 [==============================] - 0s 2ms/step - loss: 0.0010\n",
            "Epoch 26/100\n",
            "112/112 [==============================] - 0s 2ms/step - loss: 0.0010\n",
            "Epoch 27/100\n",
            "112/112 [==============================] - 0s 2ms/step - loss: 0.0010\n",
            "Epoch 28/100\n",
            "112/112 [==============================] - 0s 2ms/step - loss: 9.6882e-04\n",
            "Epoch 29/100\n",
            "112/112 [==============================] - 0s 2ms/step - loss: 9.8724e-04\n",
            "Epoch 30/100\n",
            "112/112 [==============================] - 0s 2ms/step - loss: 9.5151e-04\n",
            "Epoch 31/100\n",
            "112/112 [==============================] - 0s 2ms/step - loss: 9.5243e-04\n",
            "Epoch 32/100\n",
            "112/112 [==============================] - 0s 2ms/step - loss: 9.1569e-04\n",
            "Epoch 33/100\n",
            "112/112 [==============================] - 0s 2ms/step - loss: 9.7154e-04\n",
            "Epoch 34/100\n",
            "112/112 [==============================] - 0s 2ms/step - loss: 9.0986e-04\n",
            "Epoch 35/100\n",
            "112/112 [==============================] - 0s 2ms/step - loss: 9.2889e-04\n",
            "Epoch 36/100\n",
            "112/112 [==============================] - 0s 2ms/step - loss: 9.2284e-04\n",
            "Epoch 37/100\n",
            "112/112 [==============================] - 0s 2ms/step - loss: 9.1717e-04\n",
            "Epoch 38/100\n",
            "112/112 [==============================] - 0s 2ms/step - loss: 9.1046e-04\n",
            "Epoch 39/100\n",
            "112/112 [==============================] - 0s 2ms/step - loss: 8.7436e-04\n",
            "Epoch 40/100\n",
            "112/112 [==============================] - 0s 2ms/step - loss: 8.8080e-04\n",
            "Epoch 41/100\n",
            "112/112 [==============================] - 0s 2ms/step - loss: 9.2429e-04\n",
            "Epoch 42/100\n",
            "112/112 [==============================] - 0s 2ms/step - loss: 8.9912e-04\n",
            "Epoch 43/100\n",
            "112/112 [==============================] - 0s 2ms/step - loss: 8.8619e-04\n",
            "Epoch 44/100\n",
            "112/112 [==============================] - 0s 2ms/step - loss: 8.3990e-04\n",
            "Epoch 45/100\n",
            "112/112 [==============================] - 0s 2ms/step - loss: 8.5210e-04\n",
            "Epoch 46/100\n",
            "112/112 [==============================] - 0s 2ms/step - loss: 8.1486e-04\n",
            "Epoch 47/100\n",
            "112/112 [==============================] - 0s 2ms/step - loss: 8.5526e-04\n",
            "Epoch 48/100\n",
            "112/112 [==============================] - 0s 2ms/step - loss: 8.6166e-04\n",
            "Epoch 49/100\n",
            "112/112 [==============================] - 0s 2ms/step - loss: 8.3401e-04\n",
            "Epoch 50/100\n",
            "112/112 [==============================] - 0s 2ms/step - loss: 8.0324e-04\n",
            "Epoch 51/100\n",
            "112/112 [==============================] - 0s 2ms/step - loss: 8.5138e-04\n",
            "Epoch 52/100\n",
            "112/112 [==============================] - 0s 2ms/step - loss: 7.9689e-04\n",
            "Epoch 53/100\n",
            "112/112 [==============================] - 0s 2ms/step - loss: 7.9277e-04\n",
            "Epoch 54/100\n",
            "112/112 [==============================] - 0s 2ms/step - loss: 7.9601e-04\n",
            "Epoch 55/100\n",
            "112/112 [==============================] - 0s 2ms/step - loss: 7.7865e-04\n",
            "Epoch 56/100\n",
            "112/112 [==============================] - 0s 2ms/step - loss: 8.0661e-04\n",
            "Epoch 57/100\n",
            "112/112 [==============================] - 0s 2ms/step - loss: 7.7371e-04\n",
            "Epoch 58/100\n",
            "112/112 [==============================] - 0s 2ms/step - loss: 7.9548e-04\n",
            "Epoch 59/100\n",
            "112/112 [==============================] - 0s 2ms/step - loss: 7.5930e-04\n",
            "Epoch 60/100\n",
            "112/112 [==============================] - 0s 2ms/step - loss: 7.5719e-04\n",
            "Epoch 61/100\n",
            "112/112 [==============================] - 0s 2ms/step - loss: 8.1277e-04\n",
            "Epoch 62/100\n",
            "112/112 [==============================] - 0s 2ms/step - loss: 7.5073e-04\n",
            "Epoch 63/100\n",
            "112/112 [==============================] - 0s 2ms/step - loss: 7.7760e-04\n",
            "Epoch 64/100\n",
            "112/112 [==============================] - 0s 2ms/step - loss: 7.8036e-04\n",
            "Epoch 65/100\n",
            "112/112 [==============================] - 0s 2ms/step - loss: 7.3471e-04\n",
            "Epoch 66/100\n",
            "112/112 [==============================] - 0s 2ms/step - loss: 7.6695e-04\n",
            "Epoch 67/100\n",
            "112/112 [==============================] - 0s 2ms/step - loss: 7.8345e-04\n",
            "Epoch 68/100\n",
            "112/112 [==============================] - 0s 2ms/step - loss: 7.8489e-04\n",
            "Epoch 69/100\n",
            "112/112 [==============================] - 0s 2ms/step - loss: 7.3677e-04\n",
            "Epoch 70/100\n",
            "112/112 [==============================] - 0s 2ms/step - loss: 7.7385e-04\n",
            "Epoch 71/100\n",
            "112/112 [==============================] - 0s 2ms/step - loss: 7.0711e-04\n",
            "Epoch 72/100\n",
            "112/112 [==============================] - 0s 2ms/step - loss: 7.1225e-04\n",
            "Epoch 73/100\n",
            "112/112 [==============================] - 0s 2ms/step - loss: 7.0792e-04\n",
            "Epoch 74/100\n",
            "112/112 [==============================] - 0s 2ms/step - loss: 7.4748e-04\n",
            "Epoch 75/100\n",
            "112/112 [==============================] - 0s 2ms/step - loss: 7.0969e-04\n",
            "Epoch 76/100\n",
            "112/112 [==============================] - 0s 2ms/step - loss: 7.2252e-04\n",
            "Epoch 77/100\n",
            "112/112 [==============================] - 0s 2ms/step - loss: 6.8515e-04\n",
            "Epoch 78/100\n",
            "112/112 [==============================] - 0s 2ms/step - loss: 7.0686e-04\n",
            "Epoch 79/100\n",
            "112/112 [==============================] - 0s 2ms/step - loss: 6.9542e-04\n",
            "Epoch 80/100\n",
            "112/112 [==============================] - 0s 2ms/step - loss: 7.2540e-04\n",
            "Epoch 81/100\n",
            "112/112 [==============================] - 0s 2ms/step - loss: 6.9547e-04\n",
            "Epoch 82/100\n",
            "112/112 [==============================] - 0s 2ms/step - loss: 7.0558e-04\n",
            "Epoch 83/100\n",
            "112/112 [==============================] - 0s 2ms/step - loss: 7.1873e-04\n",
            "Epoch 84/100\n",
            "112/112 [==============================] - 0s 2ms/step - loss: 6.5644e-04\n",
            "Epoch 85/100\n",
            "112/112 [==============================] - 0s 2ms/step - loss: 6.8000e-04\n",
            "Epoch 86/100\n",
            "112/112 [==============================] - 0s 2ms/step - loss: 6.8736e-04\n",
            "Epoch 87/100\n",
            "112/112 [==============================] - 0s 2ms/step - loss: 6.6969e-04\n",
            "Epoch 88/100\n",
            "112/112 [==============================] - 0s 2ms/step - loss: 6.6574e-04\n",
            "Epoch 89/100\n",
            "112/112 [==============================] - 0s 2ms/step - loss: 6.8095e-04\n",
            "Epoch 90/100\n",
            "112/112 [==============================] - 0s 2ms/step - loss: 6.6579e-04\n",
            "Epoch 91/100\n",
            "112/112 [==============================] - 0s 2ms/step - loss: 6.4914e-04\n",
            "Epoch 92/100\n",
            "112/112 [==============================] - 0s 2ms/step - loss: 7.0570e-04\n",
            "Epoch 93/100\n",
            "112/112 [==============================] - 0s 2ms/step - loss: 6.4258e-04\n",
            "Epoch 94/100\n",
            "112/112 [==============================] - 0s 2ms/step - loss: 6.3486e-04\n",
            "Epoch 95/100\n",
            "112/112 [==============================] - 0s 2ms/step - loss: 6.7685e-04\n",
            "Epoch 96/100\n",
            "112/112 [==============================] - 0s 2ms/step - loss: 6.5991e-04\n",
            "Epoch 97/100\n",
            "112/112 [==============================] - 0s 2ms/step - loss: 6.5143e-04\n",
            "Epoch 98/100\n",
            "112/112 [==============================] - 0s 2ms/step - loss: 6.5012e-04\n",
            "Epoch 99/100\n",
            "112/112 [==============================] - 0s 2ms/step - loss: 6.2302e-04\n",
            "Epoch 100/100\n",
            "112/112 [==============================] - 0s 2ms/step - loss: 6.7201e-04\n"
          ]
        }
      ]
    },
    {
      "cell_type": "code",
      "source": [
        "x_pred = autoencoderAD.predict(data)\n",
        "res = pd.DataFrame(y)\n",
        "res['err_test'] = np.mean(np.abs(data - x_pred)**2, axis = tuple(range(1, data.ndim)))\n",
        "\n",
        "res.index = range(3632) # reseteamos los índices para poder comparar los resultados"
      ],
      "metadata": {
        "id": "ZC2o4m7Y0JEJ"
      },
      "execution_count": null,
      "outputs": []
    },
    {
      "cell_type": "markdown",
      "source": [
        "Un posible criterio para fijar el umbral sería considerar que el error de reconstrucción se distribuye de forma gaussiana. Por lo tanto, un dato anómalo sería aquel que se aleje más de 3 sigmas del error medio (donde se encuentran el 99% de los datos):"
      ],
      "metadata": {
        "id": "RevbWFfYabQU"
      }
    },
    {
      "cell_type": "code",
      "source": [
        "hab = []\n",
        "fn_tresh = np.mean(res['err_test']) + 3*np.std(res['err_test'])\n",
        "for err in res['err_test']:\n",
        "  if err > fn_tresh:\n",
        "    hab.append(1)\n",
        "  else:\n",
        "    hab.append(0)\n",
        "\n",
        "res.index = range(3632)\n",
        "acc = np.sum(hab == res['P. Habitable Class'])/data.shape[0]\n",
        "print('El porcentaje de acierto comparado con las etiquetas es: ',acc)"
      ],
      "metadata": {
        "colab": {
          "base_uri": "https://localhost:8080/"
        },
        "id": "w-36rtMnIjbV",
        "outputId": "d6d1ac10-3bbe-495e-bdcc-97ed4fcbb066"
      },
      "execution_count": null,
      "outputs": [
        {
          "output_type": "stream",
          "name": "stdout",
          "text": [
            "El porcentaje de acierto comparado con las etiquetas es:  0.9920154185022027\n"
          ]
        }
      ]
    },
    {
      "cell_type": "markdown",
      "source": [
        "Observamos que el accuracy no es una buena métrica en este caso ya que las clases están muy desbalanceadas. A partir de ahora usaremos el precision. Efectivamente, se trata de una métrica acertada ya que en la vida real los planetas no están etiquetados, y por lo tanto vale la pena sacrificar algunos posibles planetas habitables, si con eso reducimos el conjunto y augmentamos la probabilidad de acertar (el caso contrario sería que nuestro clasificador acertara todos los 55 planetas habitables pero incluyera otros 700 falsos panetas habitables, lo cual es contraproducente)."
      ],
      "metadata": {
        "id": "sCHcaB5wa2wU"
      }
    },
    {
      "cell_type": "code",
      "source": [
        "hab = np.array(hab)\n",
        "TP = np.sum(np.logical_and(hab == 1, res['P. Habitable Class'] == 1))\n",
        "TN = np.sum(np.logical_and(hab == 0, res['P. Habitable Class'] == 0))\n",
        "FN = np.sum(np.logical_and(hab == 0, res['P. Habitable Class'] == 1))\n",
        "FP = np.sum(np.logical_and(hab == 1, res['P. Habitable Class'] == 0))\n",
        "\n",
        "M = [[TN, FN],\n",
        "     [FP, TP]]\n",
        "df_cm = pd.DataFrame(M, range(2), range(2))\n",
        "sns.set(font_scale=1.4) # for label size\n",
        "sns.heatmap(df_cm, annot=True, annot_kws={\"size\": 16}).set(title='Confusion Matrix') # font size\n",
        "\n",
        "plt.show()"
      ],
      "metadata": {
        "colab": {
          "base_uri": "https://localhost:8080/",
          "height": 293
        },
        "id": "Tnf_MD6bImTp",
        "outputId": "0376c22f-35bf-4c7f-e6fe-fd16a6ac2ec0"
      },
      "execution_count": null,
      "outputs": [
        {
          "output_type": "display_data",
          "data": {
            "text/plain": [
              "<Figure size 432x288 with 2 Axes>"
            ],
            "image/png": "[encoded data removed]"
          },
          "metadata": {}
        }
      ]
    },
    {
      "cell_type": "code",
      "source": [
        "%matplotlib inline\n",
        "\n",
        "plt.figure()\n",
        "plt.scatter(range(len(res['err_test'])), res['err_test'], marker = '+', c = res['P. Habitable Class'], cmap='viridis')\n",
        "plt.axhline(y=fn_tresh, color='r', linestyle='-')\n"
      ],
      "metadata": {
        "colab": {
          "base_uri": "https://localhost:8080/",
          "height": 290
        },
        "id": "l85HOk6jI1r7",
        "outputId": "f81c93a1-2e9f-4c75-eed4-2d4d0294a214"
      },
      "execution_count": null,
      "outputs": [
        {
          "output_type": "execute_result",
          "data": {
            "text/plain": [
              "<matplotlib.lines.Line2D at 0x7fc5e5545690>"
            ]
          },
          "metadata": {},
          "execution_count": 298
        },
        {
          "output_type": "display_data",
          "data": {
            "text/plain": [
              "<Figure size 432x288 with 1 Axes>"
            ],
            "image/png": "[encoded data removed]"
          },
          "metadata": {
            "needs_background": "light"
          }
        }
      ]
    },
    {
      "cell_type": "code",
      "source": [
        "print('Obtenemos una precission de: ',TP/(TP + FP))\n"
      ],
      "metadata": {
        "colab": {
          "base_uri": "https://localhost:8080/"
        },
        "id": "6mH182LCMsrr",
        "outputId": "c9bb01a1-bc8d-4ca4-a03b-215672a6b75c"
      },
      "execution_count": null,
      "outputs": [
        {
          "output_type": "stream",
          "name": "stdout",
          "text": [
            "Obtenemos una precission de:  0.6805555555555556\n"
          ]
        }
      ]
    },
    {
      "cell_type": "markdown",
      "source": [
        "# 3. Autoencoder de RD\n",
        "Ahora utilizaremos un autoencoder como método de reducción de la dimensionalidad en lugar de PCA. Por lo tanto, ahora si que deberemos eliminar las variables altamente correlacionadas:\n"
      ],
      "metadata": {
        "id": "6bkCUFfKq2Rp"
      }
    },
    {
      "cell_type": "code",
      "source": [
        "# Create correlation matrix\n",
        "df = pd.DataFrame(df)\n",
        "corr_matrix = df.corr().abs()\n",
        "\n",
        "# Select upper triangle of correlation matrix\n",
        "upper = corr_matrix.where(np.triu(np.ones(corr_matrix.shape), k=1).astype(np.bool))\n",
        "\n",
        "# Find index of feature columns with correlation greater than 0.85\n",
        "to_drop = [column for column in upper.columns if any(upper[column] > 0.85)]"
      ],
      "metadata": {
        "colab": {
          "base_uri": "https://localhost:8080/"
        },
        "id": "Y-6LjIyxq3ZM",
        "outputId": "935ed80b-84e8-4193-91cf-0d8114ca7fcf"
      },
      "execution_count": null,
      "outputs": [
        {
          "output_type": "stream",
          "name": "stderr",
          "text": [
            "/usr/local/lib/python3.7/dist-packages/ipykernel_launcher.py:6: DeprecationWarning: `np.bool` is a deprecated alias for the builtin `bool`. To silence this warning, use `bool` by itself. Doing this will not modify any behavior and is safe. If you specifically wanted the numpy scalar type, use `np.bool_` here.\n",
            "Deprecated in NumPy 1.20; for more details and guidance: https://numpy.org/devdocs/release/1.20.0-notes.html#deprecations\n",
            "  \n"
          ]
        }
      ]
    },
    {
      "cell_type": "code",
      "source": [
        "df = df.drop(df.columns[to_drop], axis = 1)"
      ],
      "metadata": {
        "id": "24A-owWtrCis"
      },
      "execution_count": null,
      "outputs": []
    },
    {
      "cell_type": "code",
      "source": [
        "df = np.array(df)\n",
        "x_train = df[y == 0,:]"
      ],
      "metadata": {
        "id": "NyQR-lIPtkQd"
      },
      "execution_count": null,
      "outputs": []
    },
    {
      "cell_type": "code",
      "source": [
        "inp = keras.layers.Input(shape = (df.shape[1],))\n",
        "codif = keras.layers.Dense(16, activation = 'relu')(inp)\n",
        "codif = keras.layers.Dropout(0.2)(codif)\n",
        "codif2 = keras.layers.Dense(10, activation = 'relu')(codif)\n",
        "codif3 = keras.layers.Dense(16, activation = 'relu')(codif2)\n",
        "codif3 = keras.layers.Dropout(0.2)(codif3)\n",
        "decod = keras.layers.Dense(df.shape[1], activation = tf.nn.tanh)(codif3)\n",
        "\n",
        "autoencoder2 = keras.Model(inp, decod)\n",
        "autoencoder2.compile('adam', 'mse')\n",
        "history = autoencoder2.fit(x_train, x_train, epochs = 100)"
      ],
      "metadata": {
        "id": "spi3nNCQAZi6",
        "colab": {
          "base_uri": "https://localhost:8080/"
        },
        "outputId": "b6c614be-18c6-41ec-ba0d-5e554cb39db2"
      },
      "execution_count": null,
      "outputs": [
        {
          "output_type": "stream",
          "name": "stdout",
          "text": [
            "Epoch 1/100\n",
            "112/112 [==============================] - 1s 2ms/step - loss: 0.0752\n",
            "Epoch 2/100\n",
            "112/112 [==============================] - 0s 2ms/step - loss: 0.0282\n",
            "Epoch 3/100\n",
            "112/112 [==============================] - 0s 2ms/step - loss: 0.0196\n",
            "Epoch 4/100\n",
            "112/112 [==============================] - 0s 2ms/step - loss: 0.0158\n",
            "Epoch 5/100\n",
            "112/112 [==============================] - 0s 2ms/step - loss: 0.0126\n",
            "Epoch 6/100\n",
            "112/112 [==============================] - 0s 2ms/step - loss: 0.0112\n",
            "Epoch 7/100\n",
            "112/112 [==============================] - 0s 2ms/step - loss: 0.0101\n",
            "Epoch 8/100\n",
            "112/112 [==============================] - 0s 2ms/step - loss: 0.0090\n",
            "Epoch 9/100\n",
            "112/112 [==============================] - 0s 1ms/step - loss: 0.0087\n",
            "Epoch 10/100\n",
            "112/112 [==============================] - 0s 2ms/step - loss: 0.0081\n",
            "Epoch 11/100\n",
            "112/112 [==============================] - 0s 2ms/step - loss: 0.0076\n",
            "Epoch 12/100\n",
            "112/112 [==============================] - 0s 1ms/step - loss: 0.0070\n",
            "Epoch 13/100\n",
            "112/112 [==============================] - 0s 2ms/step - loss: 0.0068\n",
            "Epoch 14/100\n",
            "112/112 [==============================] - 0s 2ms/step - loss: 0.0066\n",
            "Epoch 15/100\n",
            "112/112 [==============================] - 0s 1ms/step - loss: 0.0064\n",
            "Epoch 16/100\n",
            "112/112 [==============================] - 0s 1ms/step - loss: 0.0062\n",
            "Epoch 17/100\n",
            "112/112 [==============================] - 0s 2ms/step - loss: 0.0061\n",
            "Epoch 18/100\n",
            "112/112 [==============================] - 0s 2ms/step - loss: 0.0057\n",
            "Epoch 19/100\n",
            "112/112 [==============================] - 0s 2ms/step - loss: 0.0059\n",
            "Epoch 20/100\n",
            "112/112 [==============================] - 0s 1ms/step - loss: 0.0054\n",
            "Epoch 21/100\n",
            "112/112 [==============================] - 0s 2ms/step - loss: 0.0053\n",
            "Epoch 22/100\n",
            "112/112 [==============================] - 0s 1ms/step - loss: 0.0054\n",
            "Epoch 23/100\n",
            "112/112 [==============================] - 0s 2ms/step - loss: 0.0052\n",
            "Epoch 24/100\n",
            "112/112 [==============================] - 0s 1ms/step - loss: 0.0052\n",
            "Epoch 25/100\n",
            "112/112 [==============================] - 0s 2ms/step - loss: 0.0052\n",
            "Epoch 26/100\n",
            "112/112 [==============================] - 0s 1ms/step - loss: 0.0050\n",
            "Epoch 27/100\n",
            "112/112 [==============================] - 0s 2ms/step - loss: 0.0050\n",
            "Epoch 28/100\n",
            "112/112 [==============================] - 0s 2ms/step - loss: 0.0051\n",
            "Epoch 29/100\n",
            "112/112 [==============================] - 0s 2ms/step - loss: 0.0048\n",
            "Epoch 30/100\n",
            "112/112 [==============================] - 0s 2ms/step - loss: 0.0047\n",
            "Epoch 31/100\n",
            "112/112 [==============================] - 0s 1ms/step - loss: 0.0048\n",
            "Epoch 32/100\n",
            "112/112 [==============================] - 0s 2ms/step - loss: 0.0048\n",
            "Epoch 33/100\n",
            "112/112 [==============================] - 0s 2ms/step - loss: 0.0046\n",
            "Epoch 34/100\n",
            "112/112 [==============================] - 0s 1ms/step - loss: 0.0047\n",
            "Epoch 35/100\n",
            "112/112 [==============================] - 0s 1ms/step - loss: 0.0046\n",
            "Epoch 36/100\n",
            "112/112 [==============================] - 0s 2ms/step - loss: 0.0044\n",
            "Epoch 37/100\n",
            "112/112 [==============================] - 0s 1ms/step - loss: 0.0045\n",
            "Epoch 38/100\n",
            "112/112 [==============================] - 0s 2ms/step - loss: 0.0044\n",
            "Epoch 39/100\n",
            "112/112 [==============================] - 0s 2ms/step - loss: 0.0044\n",
            "Epoch 40/100\n",
            "112/112 [==============================] - 0s 2ms/step - loss: 0.0043\n",
            "Epoch 41/100\n",
            "112/112 [==============================] - 0s 2ms/step - loss: 0.0043\n",
            "Epoch 42/100\n",
            "112/112 [==============================] - 0s 2ms/step - loss: 0.0043\n",
            "Epoch 43/100\n",
            "112/112 [==============================] - 0s 2ms/step - loss: 0.0044\n",
            "Epoch 44/100\n",
            "112/112 [==============================] - 0s 2ms/step - loss: 0.0043\n",
            "Epoch 45/100\n",
            "112/112 [==============================] - 0s 2ms/step - loss: 0.0042\n",
            "Epoch 46/100\n",
            "112/112 [==============================] - 0s 1ms/step - loss: 0.0042\n",
            "Epoch 47/100\n",
            "112/112 [==============================] - 0s 1ms/step - loss: 0.0043\n",
            "Epoch 48/100\n",
            "112/112 [==============================] - 0s 2ms/step - loss: 0.0044\n",
            "Epoch 49/100\n",
            "112/112 [==============================] - 0s 2ms/step - loss: 0.0043\n",
            "Epoch 50/100\n",
            "112/112 [==============================] - 0s 2ms/step - loss: 0.0041\n",
            "Epoch 51/100\n",
            "112/112 [==============================] - 0s 2ms/step - loss: 0.0042\n",
            "Epoch 52/100\n",
            "112/112 [==============================] - 0s 2ms/step - loss: 0.0043\n",
            "Epoch 53/100\n",
            "112/112 [==============================] - 0s 2ms/step - loss: 0.0043\n",
            "Epoch 54/100\n",
            "112/112 [==============================] - 0s 2ms/step - loss: 0.0043\n",
            "Epoch 55/100\n",
            "112/112 [==============================] - 0s 2ms/step - loss: 0.0041\n",
            "Epoch 56/100\n",
            "112/112 [==============================] - 0s 2ms/step - loss: 0.0040\n",
            "Epoch 57/100\n",
            "112/112 [==============================] - 0s 1ms/step - loss: 0.0042\n",
            "Epoch 58/100\n",
            "112/112 [==============================] - 0s 2ms/step - loss: 0.0039\n",
            "Epoch 59/100\n",
            "112/112 [==============================] - 0s 2ms/step - loss: 0.0043\n",
            "Epoch 60/100\n",
            "112/112 [==============================] - 0s 2ms/step - loss: 0.0041\n",
            "Epoch 61/100\n",
            "112/112 [==============================] - 0s 2ms/step - loss: 0.0040\n",
            "Epoch 62/100\n",
            "112/112 [==============================] - 0s 1ms/step - loss: 0.0040\n",
            "Epoch 63/100\n",
            "112/112 [==============================] - 0s 2ms/step - loss: 0.0039\n",
            "Epoch 64/100\n",
            "112/112 [==============================] - 0s 2ms/step - loss: 0.0039\n",
            "Epoch 65/100\n",
            "112/112 [==============================] - 0s 2ms/step - loss: 0.0040\n",
            "Epoch 66/100\n",
            "112/112 [==============================] - 0s 2ms/step - loss: 0.0040\n",
            "Epoch 67/100\n",
            "112/112 [==============================] - 0s 1ms/step - loss: 0.0039\n",
            "Epoch 68/100\n",
            "112/112 [==============================] - 0s 2ms/step - loss: 0.0039\n",
            "Epoch 69/100\n",
            "112/112 [==============================] - 0s 2ms/step - loss: 0.0041\n",
            "Epoch 70/100\n",
            "112/112 [==============================] - 0s 1ms/step - loss: 0.0040\n",
            "Epoch 71/100\n",
            "112/112 [==============================] - 0s 2ms/step - loss: 0.0039\n",
            "Epoch 72/100\n",
            "112/112 [==============================] - 0s 2ms/step - loss: 0.0040\n",
            "Epoch 73/100\n",
            "112/112 [==============================] - 0s 2ms/step - loss: 0.0040\n",
            "Epoch 74/100\n",
            "112/112 [==============================] - 0s 2ms/step - loss: 0.0040\n",
            "Epoch 75/100\n",
            "112/112 [==============================] - 0s 2ms/step - loss: 0.0039\n",
            "Epoch 76/100\n",
            "112/112 [==============================] - 0s 2ms/step - loss: 0.0038\n",
            "Epoch 77/100\n",
            "112/112 [==============================] - 0s 1ms/step - loss: 0.0038\n",
            "Epoch 78/100\n",
            "112/112 [==============================] - 0s 2ms/step - loss: 0.0040\n",
            "Epoch 79/100\n",
            "112/112 [==============================] - 0s 1ms/step - loss: 0.0038\n",
            "Epoch 80/100\n",
            "112/112 [==============================] - 0s 2ms/step - loss: 0.0037\n",
            "Epoch 81/100\n",
            "112/112 [==============================] - 0s 2ms/step - loss: 0.0039\n",
            "Epoch 82/100\n",
            "112/112 [==============================] - 0s 2ms/step - loss: 0.0038\n",
            "Epoch 83/100\n",
            "112/112 [==============================] - 0s 2ms/step - loss: 0.0040\n",
            "Epoch 84/100\n",
            "112/112 [==============================] - 0s 2ms/step - loss: 0.0040\n",
            "Epoch 85/100\n",
            "112/112 [==============================] - 0s 2ms/step - loss: 0.0039\n",
            "Epoch 86/100\n",
            "112/112 [==============================] - 0s 2ms/step - loss: 0.0040\n",
            "Epoch 87/100\n",
            "112/112 [==============================] - 0s 2ms/step - loss: 0.0037\n",
            "Epoch 88/100\n",
            "112/112 [==============================] - 0s 2ms/step - loss: 0.0038\n",
            "Epoch 89/100\n",
            "112/112 [==============================] - 0s 1ms/step - loss: 0.0038\n",
            "Epoch 90/100\n",
            "112/112 [==============================] - 0s 2ms/step - loss: 0.0039\n",
            "Epoch 91/100\n",
            "112/112 [==============================] - 0s 1ms/step - loss: 0.0037\n",
            "Epoch 92/100\n",
            "112/112 [==============================] - 0s 2ms/step - loss: 0.0038\n",
            "Epoch 93/100\n",
            "112/112 [==============================] - 0s 2ms/step - loss: 0.0038\n",
            "Epoch 94/100\n",
            "112/112 [==============================] - 0s 2ms/step - loss: 0.0038\n",
            "Epoch 95/100\n",
            "112/112 [==============================] - 0s 2ms/step - loss: 0.0037\n",
            "Epoch 96/100\n",
            "112/112 [==============================] - 0s 2ms/step - loss: 0.0039\n",
            "Epoch 97/100\n",
            "112/112 [==============================] - 0s 1ms/step - loss: 0.0037\n",
            "Epoch 98/100\n",
            "112/112 [==============================] - 0s 2ms/step - loss: 0.0037\n",
            "Epoch 99/100\n",
            "112/112 [==============================] - 0s 2ms/step - loss: 0.0038\n",
            "Epoch 100/100\n",
            "112/112 [==============================] - 0s 2ms/step - loss: 0.0038\n"
          ]
        }
      ]
    },
    {
      "cell_type": "code",
      "source": [
        "autoencoderRD = keras.Model(inp, codif2)\n",
        "autoencoderRD.summary()"
      ],
      "metadata": {
        "colab": {
          "base_uri": "https://localhost:8080/"
        },
        "id": "6-YaxcKZC-yV",
        "outputId": "4f173977-d321-4057-c992-8ed73193c3d6"
      },
      "execution_count": null,
      "outputs": [
        {
          "output_type": "stream",
          "name": "stdout",
          "text": [
            "Model: \"model_11\"\n",
            "_________________________________________________________________\n",
            " Layer (type)                Output Shape              Param #   \n",
            "=================================================================\n",
            " input_11 (InputLayer)       [(None, 7)]               0         \n",
            "                                                                 \n",
            " dense_42 (Dense)            (None, 16)                128       \n",
            "                                                                 \n",
            " dropout_12 (Dropout)        (None, 16)                0         \n",
            "                                                                 \n",
            " dense_43 (Dense)            (None, 10)                170       \n",
            "                                                                 \n",
            "=================================================================\n",
            "Total params: 298\n",
            "Trainable params: 298\n",
            "Non-trainable params: 0\n",
            "_________________________________________________________________\n"
          ]
        }
      ]
    },
    {
      "cell_type": "code",
      "source": [
        "x_trainRD = autoencoderRD.predict(x_train)\n",
        "history = autoencoderAD.fit(x_trainRD, x_trainRD, epochs = 100)"
      ],
      "metadata": {
        "colab": {
          "base_uri": "https://localhost:8080/"
        },
        "id": "TK8DcS2lHmVd",
        "outputId": "b828edad-585e-450a-bbc9-cc50920648a1"
      },
      "execution_count": null,
      "outputs": [
        {
          "output_type": "stream",
          "name": "stdout",
          "text": [
            "Epoch 1/100\n",
            "112/112 [==============================] - 0s 2ms/step - loss: 0.0076\n",
            "Epoch 2/100\n",
            "112/112 [==============================] - 0s 2ms/step - loss: 0.0026\n",
            "Epoch 3/100\n",
            "112/112 [==============================] - 0s 2ms/step - loss: 0.0018\n",
            "Epoch 4/100\n",
            "112/112 [==============================] - 0s 2ms/step - loss: 0.0015\n",
            "Epoch 5/100\n",
            "112/112 [==============================] - 0s 2ms/step - loss: 0.0013\n",
            "Epoch 6/100\n",
            "112/112 [==============================] - 0s 2ms/step - loss: 0.0012\n",
            "Epoch 7/100\n",
            "112/112 [==============================] - 0s 2ms/step - loss: 0.0011\n",
            "Epoch 8/100\n",
            "112/112 [==============================] - 0s 2ms/step - loss: 0.0011\n",
            "Epoch 9/100\n",
            "112/112 [==============================] - 0s 2ms/step - loss: 0.0010\n",
            "Epoch 10/100\n",
            "112/112 [==============================] - 0s 2ms/step - loss: 9.5684e-04\n",
            "Epoch 11/100\n",
            "112/112 [==============================] - 0s 2ms/step - loss: 9.0091e-04\n",
            "Epoch 12/100\n",
            "112/112 [==============================] - 0s 2ms/step - loss: 9.2810e-04\n",
            "Epoch 13/100\n",
            "112/112 [==============================] - 0s 2ms/step - loss: 8.8505e-04\n",
            "Epoch 14/100\n",
            "112/112 [==============================] - 0s 2ms/step - loss: 8.4688e-04\n",
            "Epoch 15/100\n",
            "112/112 [==============================] - 0s 2ms/step - loss: 8.4408e-04\n",
            "Epoch 16/100\n",
            "112/112 [==============================] - 0s 2ms/step - loss: 7.7289e-04\n",
            "Epoch 17/100\n",
            "112/112 [==============================] - 0s 2ms/step - loss: 7.4837e-04\n",
            "Epoch 18/100\n",
            "112/112 [==============================] - 0s 2ms/step - loss: 7.6784e-04\n",
            "Epoch 19/100\n",
            "112/112 [==============================] - 0s 2ms/step - loss: 7.6488e-04\n",
            "Epoch 20/100\n",
            "112/112 [==============================] - 0s 2ms/step - loss: 7.2765e-04\n",
            "Epoch 21/100\n",
            "112/112 [==============================] - 0s 2ms/step - loss: 7.0455e-04\n",
            "Epoch 22/100\n",
            "112/112 [==============================] - 0s 2ms/step - loss: 6.8143e-04\n",
            "Epoch 23/100\n",
            "112/112 [==============================] - 0s 2ms/step - loss: 7.1963e-04\n",
            "Epoch 24/100\n",
            "112/112 [==============================] - 0s 2ms/step - loss: 6.9157e-04\n",
            "Epoch 25/100\n",
            "112/112 [==============================] - 0s 2ms/step - loss: 6.5636e-04\n",
            "Epoch 26/100\n",
            "112/112 [==============================] - 0s 2ms/step - loss: 6.4678e-04\n",
            "Epoch 27/100\n",
            "112/112 [==============================] - 0s 2ms/step - loss: 6.2622e-04\n",
            "Epoch 28/100\n",
            "112/112 [==============================] - 0s 2ms/step - loss: 6.5572e-04\n",
            "Epoch 29/100\n",
            "112/112 [==============================] - 0s 2ms/step - loss: 6.3498e-04\n",
            "Epoch 30/100\n",
            "112/112 [==============================] - 0s 2ms/step - loss: 6.2675e-04\n",
            "Epoch 31/100\n",
            "112/112 [==============================] - 0s 2ms/step - loss: 6.1114e-04\n",
            "Epoch 32/100\n",
            "112/112 [==============================] - 0s 2ms/step - loss: 5.9601e-04\n",
            "Epoch 33/100\n",
            "112/112 [==============================] - 0s 2ms/step - loss: 5.6034e-04\n",
            "Epoch 34/100\n",
            "112/112 [==============================] - 0s 2ms/step - loss: 5.7525e-04\n",
            "Epoch 35/100\n",
            "112/112 [==============================] - 0s 2ms/step - loss: 5.6914e-04\n",
            "Epoch 36/100\n",
            "112/112 [==============================] - 0s 2ms/step - loss: 5.5606e-04\n",
            "Epoch 37/100\n",
            "112/112 [==============================] - 0s 2ms/step - loss: 5.4450e-04\n",
            "Epoch 38/100\n",
            "112/112 [==============================] - 0s 2ms/step - loss: 5.7702e-04\n",
            "Epoch 39/100\n",
            "112/112 [==============================] - 0s 2ms/step - loss: 5.4856e-04\n",
            "Epoch 40/100\n",
            "112/112 [==============================] - 0s 2ms/step - loss: 5.4536e-04\n",
            "Epoch 41/100\n",
            "112/112 [==============================] - 0s 2ms/step - loss: 5.1621e-04\n",
            "Epoch 42/100\n",
            "112/112 [==============================] - 0s 2ms/step - loss: 5.0875e-04\n",
            "Epoch 43/100\n",
            "112/112 [==============================] - 0s 2ms/step - loss: 5.0688e-04\n",
            "Epoch 44/100\n",
            "112/112 [==============================] - 0s 2ms/step - loss: 5.1132e-04\n",
            "Epoch 45/100\n",
            "112/112 [==============================] - 0s 2ms/step - loss: 4.9865e-04\n",
            "Epoch 46/100\n",
            "112/112 [==============================] - 0s 2ms/step - loss: 5.2256e-04\n",
            "Epoch 47/100\n",
            "112/112 [==============================] - 0s 2ms/step - loss: 4.8524e-04\n",
            "Epoch 48/100\n",
            "112/112 [==============================] - 0s 2ms/step - loss: 5.0671e-04\n",
            "Epoch 49/100\n",
            "112/112 [==============================] - 0s 2ms/step - loss: 4.7672e-04\n",
            "Epoch 50/100\n",
            "112/112 [==============================] - 0s 2ms/step - loss: 4.7441e-04\n",
            "Epoch 51/100\n",
            "112/112 [==============================] - 0s 2ms/step - loss: 4.5488e-04\n",
            "Epoch 52/100\n",
            "112/112 [==============================] - 0s 2ms/step - loss: 4.4130e-04\n",
            "Epoch 53/100\n",
            "112/112 [==============================] - 0s 2ms/step - loss: 4.7380e-04\n",
            "Epoch 54/100\n",
            "112/112 [==============================] - 0s 2ms/step - loss: 4.4031e-04\n",
            "Epoch 55/100\n",
            "112/112 [==============================] - 0s 2ms/step - loss: 4.5081e-04\n",
            "Epoch 56/100\n",
            "112/112 [==============================] - 0s 2ms/step - loss: 4.4367e-04\n",
            "Epoch 57/100\n",
            "112/112 [==============================] - 0s 2ms/step - loss: 4.5708e-04\n",
            "Epoch 58/100\n",
            "112/112 [==============================] - 0s 2ms/step - loss: 4.4541e-04\n",
            "Epoch 59/100\n",
            "112/112 [==============================] - 0s 2ms/step - loss: 4.1613e-04\n",
            "Epoch 60/100\n",
            "112/112 [==============================] - 0s 2ms/step - loss: 4.3817e-04\n",
            "Epoch 61/100\n",
            "112/112 [==============================] - 0s 2ms/step - loss: 4.3076e-04\n",
            "Epoch 62/100\n",
            "112/112 [==============================] - 0s 2ms/step - loss: 4.2848e-04\n",
            "Epoch 63/100\n",
            "112/112 [==============================] - 0s 2ms/step - loss: 4.5289e-04\n",
            "Epoch 64/100\n",
            "112/112 [==============================] - 0s 2ms/step - loss: 3.9973e-04\n",
            "Epoch 65/100\n",
            "112/112 [==============================] - 0s 2ms/step - loss: 4.0578e-04\n",
            "Epoch 66/100\n",
            "112/112 [==============================] - 0s 2ms/step - loss: 4.0446e-04\n",
            "Epoch 67/100\n",
            "112/112 [==============================] - 0s 2ms/step - loss: 3.8952e-04\n",
            "Epoch 68/100\n",
            "112/112 [==============================] - 0s 2ms/step - loss: 3.9283e-04\n",
            "Epoch 69/100\n",
            "112/112 [==============================] - 0s 2ms/step - loss: 4.1530e-04\n",
            "Epoch 70/100\n",
            "112/112 [==============================] - 0s 2ms/step - loss: 4.3432e-04\n",
            "Epoch 71/100\n",
            "112/112 [==============================] - 0s 2ms/step - loss: 4.0353e-04\n",
            "Epoch 72/100\n",
            "112/112 [==============================] - 0s 2ms/step - loss: 3.9848e-04\n",
            "Epoch 73/100\n",
            "112/112 [==============================] - 0s 2ms/step - loss: 4.1987e-04\n",
            "Epoch 74/100\n",
            "112/112 [==============================] - 0s 2ms/step - loss: 3.7157e-04\n",
            "Epoch 75/100\n",
            "112/112 [==============================] - 0s 2ms/step - loss: 4.1648e-04\n",
            "Epoch 76/100\n",
            "112/112 [==============================] - 0s 2ms/step - loss: 3.6850e-04\n",
            "Epoch 77/100\n",
            "112/112 [==============================] - 0s 2ms/step - loss: 4.0933e-04\n",
            "Epoch 78/100\n",
            "112/112 [==============================] - 0s 2ms/step - loss: 3.8262e-04\n",
            "Epoch 79/100\n",
            "112/112 [==============================] - 0s 2ms/step - loss: 3.4941e-04\n",
            "Epoch 80/100\n",
            "112/112 [==============================] - 0s 2ms/step - loss: 3.8188e-04\n",
            "Epoch 81/100\n",
            "112/112 [==============================] - 0s 2ms/step - loss: 3.5171e-04\n",
            "Epoch 82/100\n",
            "112/112 [==============================] - 0s 2ms/step - loss: 3.7036e-04\n",
            "Epoch 83/100\n",
            "112/112 [==============================] - 0s 2ms/step - loss: 3.5661e-04\n",
            "Epoch 84/100\n",
            "112/112 [==============================] - 0s 2ms/step - loss: 3.6209e-04\n",
            "Epoch 85/100\n",
            "112/112 [==============================] - 0s 2ms/step - loss: 3.5634e-04\n",
            "Epoch 86/100\n",
            "112/112 [==============================] - 0s 2ms/step - loss: 3.4656e-04\n",
            "Epoch 87/100\n",
            "112/112 [==============================] - 0s 2ms/step - loss: 3.6281e-04\n",
            "Epoch 88/100\n",
            "112/112 [==============================] - 0s 2ms/step - loss: 3.3079e-04\n",
            "Epoch 89/100\n",
            "112/112 [==============================] - 0s 2ms/step - loss: 3.3767e-04\n",
            "Epoch 90/100\n",
            "112/112 [==============================] - 0s 2ms/step - loss: 3.4544e-04\n",
            "Epoch 91/100\n",
            "112/112 [==============================] - 0s 2ms/step - loss: 3.4921e-04\n",
            "Epoch 92/100\n",
            "112/112 [==============================] - 0s 2ms/step - loss: 3.2726e-04\n",
            "Epoch 93/100\n",
            "112/112 [==============================] - 0s 2ms/step - loss: 3.3957e-04\n",
            "Epoch 94/100\n",
            "112/112 [==============================] - 0s 2ms/step - loss: 3.1463e-04\n",
            "Epoch 95/100\n",
            "112/112 [==============================] - 0s 2ms/step - loss: 3.3013e-04\n",
            "Epoch 96/100\n",
            "112/112 [==============================] - 0s 2ms/step - loss: 3.4043e-04\n",
            "Epoch 97/100\n",
            "112/112 [==============================] - 0s 2ms/step - loss: 3.3710e-04\n",
            "Epoch 98/100\n",
            "112/112 [==============================] - 0s 2ms/step - loss: 3.3239e-04\n",
            "Epoch 99/100\n",
            "112/112 [==============================] - 0s 2ms/step - loss: 3.0811e-04\n",
            "Epoch 100/100\n",
            "112/112 [==============================] - 0s 2ms/step - loss: 3.2475e-04\n"
          ]
        }
      ]
    },
    {
      "cell_type": "code",
      "source": [
        "xRD = autoencoderRD.predict(df)\n",
        "x_pred2 = autoencoderAD.predict(xRD)\n",
        "res2 = pd.DataFrame(y)\n",
        "res2['err_test'] = np.mean(np.abs(xRD - x_pred2)**2, axis = tuple(range(1, xRD.ndim)))\n",
        "\n",
        "res2.index = range(3632) # reseteamos los índices para poder comparar los resultados"
      ],
      "metadata": {
        "id": "DmXijdenDQE1"
      },
      "execution_count": null,
      "outputs": []
    },
    {
      "cell_type": "code",
      "source": [
        "hab = []\n",
        "fn_tresh = np.mean(res2['err_test']) + 3*np.std(res2['err_test'])\n",
        "\n",
        "for err in res2['err_test']:\n",
        "  if err > fn_tresh:\n",
        "    hab.append(1)\n",
        "  else:\n",
        "    hab.append(0)\n",
        "\n",
        "acc = np.sum(hab == res2['P. Habitable Class'])/df.shape[0]\n",
        "print('El porcentaje de acierto comparado con las etiquetas es: ',acc)"
      ],
      "metadata": {
        "colab": {
          "base_uri": "https://localhost:8080/"
        },
        "id": "HoiHo7VsJEQ-",
        "outputId": "a2f7d56d-865f-4e53-a4cd-26bf8701262f"
      },
      "execution_count": null,
      "outputs": [
        {
          "output_type": "stream",
          "name": "stdout",
          "text": [
            "El porcentaje de acierto comparado con las etiquetas es:  0.998898678414097\n"
          ]
        }
      ]
    },
    {
      "cell_type": "code",
      "source": [
        "hab = np.array(hab)\n",
        "TP = np.sum(np.logical_and(hab == 1, res2['P. Habitable Class'] == 1))\n",
        "TN = np.sum(np.logical_and(hab == 0, res2['P. Habitable Class'] == 0))\n",
        "FN = np.sum(np.logical_and(hab == 0, res2['P. Habitable Class'] == 1))\n",
        "FP = np.sum(np.logical_and(hab == 1, res2['P. Habitable Class'] == 0))\n",
        "\n",
        "M = [[TN, FN],\n",
        "     [FP, TP]]\n",
        "df_cm = pd.DataFrame(M, range(2), range(2))\n",
        "sns.set(font_scale=1.4) # for label size\n",
        "sns.heatmap(df_cm, annot=True, annot_kws={\"size\": 16}).set(title='Confusion Matrix') # font size\n",
        "\n",
        "plt.show()"
      ],
      "metadata": {
        "colab": {
          "base_uri": "https://localhost:8080/",
          "height": 293
        },
        "id": "MeOfKCrUJLSp",
        "outputId": "34046ee5-e748-4c44-d890-7febc9efcda3"
      },
      "execution_count": null,
      "outputs": [
        {
          "output_type": "display_data",
          "data": {
            "text/plain": [
              "<Figure size 432x288 with 2 Axes>"
            ],
            "image/png": "[encoded data removed]"
          },
          "metadata": {}
        }
      ]
    },
    {
      "cell_type": "code",
      "source": [
        "%matplotlib inline\n",
        "\n",
        "plt.figure()\n",
        "plt.scatter(range(len(res2['err_test'])), res2['err_test'], marker = '+', c = res2['P. Habitable Class'], cmap='viridis')\n",
        "plt.axhline(y=fn_tresh, color='r', linestyle='-')"
      ],
      "metadata": {
        "colab": {
          "base_uri": "https://localhost:8080/",
          "height": 290
        },
        "id": "h8MjeO0QEqtG",
        "outputId": "5ed2c4ef-38b5-444a-d247-efdc5bb869b8"
      },
      "execution_count": null,
      "outputs": [
        {
          "output_type": "execute_result",
          "data": {
            "text/plain": [
              "<matplotlib.lines.Line2D at 0x7fc5e32a8d10>"
            ]
          },
          "metadata": {},
          "execution_count": 350
        },
        {
          "output_type": "display_data",
          "data": {
            "text/plain": [
              "<Figure size 432x288 with 1 Axes>"
            ],
            "image/png": "[encoded data removed]"
          },
          "metadata": {
            "needs_background": "light"
          }
        }
      ]
    },
    {
      "cell_type": "markdown",
      "source": [
        "En este caso los resultados son mucho mejores que en el anterior."
      ],
      "metadata": {
        "id": "9xcH5i4Wd_aJ"
      }
    },
    {
      "cell_type": "code",
      "source": [
        "print('Obtenemos una precission de: ',TP/(TP + FP))"
      ],
      "metadata": {
        "colab": {
          "base_uri": "https://localhost:8080/"
        },
        "id": "Kh6tFHy1eLtN",
        "outputId": "5f67ac5b-cd2b-4747-cef6-d48e3057ddd6"
      },
      "execution_count": null,
      "outputs": [
        {
          "output_type": "stream",
          "name": "stdout",
          "text": [
            "Obtenemos una precission de:  0.9473684210526315\n"
          ]
        }
      ]
    },
    {
      "cell_type": "markdown",
      "source": [
        "# 4. Autoencoder únicamente\n",
        "Finalmente, nos han propuesto un único autoencoder como detector de anomalías capaz de trabajar con el dataset entero:"
      ],
      "metadata": {
        "id": "_nu1F_lkuoE_"
      }
    },
    {
      "cell_type": "code",
      "source": [
        "inp = keras.layers.Input(shape = (df.shape[1],))\n",
        "codif = keras.layers.Dense(15, activation = 'relu')(inp)\n",
        "codif = keras.layers.Dropout(0.2)(codif)\n",
        "codif2 = keras.layers.Dense(8, activation = 'relu')(codif)\n",
        "codif2 = keras.layers.Dropout(0.2)(codif2)\n",
        "codif3 = keras.layers.Dense(3, activation = 'relu')(codif2)\n",
        "codif3 = keras.layers.Dropout(0.2)(codif3)\n",
        "codif4 = keras.layers.Dense(8, activation = 'relu')(codif3)\n",
        "codif4 = keras.layers.Dropout(0.2)(codif4)\n",
        "codif5 = keras.layers.Dense(15, activation = 'relu')(codif4)\n",
        "decod = keras.layers.Dense(df.shape[1], activation = tf.nn.tanh)(codif5)\n",
        "\n",
        "autoencoderTO = keras.Model(inp, decod)\n",
        "autoencoderTO.compile(optimizer = 'adam', loss = 'mse')\n",
        "\n",
        "history = autoencoderTO.fit(x_train, x_train, epochs = 100)"
      ],
      "metadata": {
        "colab": {
          "base_uri": "https://localhost:8080/"
        },
        "id": "gXydz4liupKr",
        "outputId": "1769e726-b131-4a8b-a859-e5128320c654"
      },
      "execution_count": null,
      "outputs": [
        {
          "output_type": "stream",
          "name": "stdout",
          "text": [
            "Epoch 1/100\n",
            "112/112 [==============================] - 2s 3ms/step - loss: 0.0583\n",
            "Epoch 2/100\n",
            "112/112 [==============================] - 0s 3ms/step - loss: 0.0321\n",
            "Epoch 3/100\n",
            "112/112 [==============================] - 0s 3ms/step - loss: 0.0257\n",
            "Epoch 4/100\n",
            "112/112 [==============================] - 0s 3ms/step - loss: 0.0217\n",
            "Epoch 5/100\n",
            "112/112 [==============================] - 0s 3ms/step - loss: 0.0190\n",
            "Epoch 6/100\n",
            "112/112 [==============================] - 0s 3ms/step - loss: 0.0180\n",
            "Epoch 7/100\n",
            "112/112 [==============================] - 0s 3ms/step - loss: 0.0176\n",
            "Epoch 8/100\n",
            "112/112 [==============================] - 0s 3ms/step - loss: 0.0173\n",
            "Epoch 9/100\n",
            "112/112 [==============================] - 0s 3ms/step - loss: 0.0168\n",
            "Epoch 10/100\n",
            "112/112 [==============================] - 0s 3ms/step - loss: 0.0162\n",
            "Epoch 11/100\n",
            "112/112 [==============================] - 0s 3ms/step - loss: 0.0157\n",
            "Epoch 12/100\n",
            "112/112 [==============================] - 0s 3ms/step - loss: 0.0152\n",
            "Epoch 13/100\n",
            "112/112 [==============================] - 0s 3ms/step - loss: 0.0153\n",
            "Epoch 14/100\n",
            "112/112 [==============================] - 0s 3ms/step - loss: 0.0148\n",
            "Epoch 15/100\n",
            "112/112 [==============================] - 0s 3ms/step - loss: 0.0154\n",
            "Epoch 16/100\n",
            "112/112 [==============================] - 0s 3ms/step - loss: 0.0140\n",
            "Epoch 17/100\n",
            "112/112 [==============================] - 0s 3ms/step - loss: 0.0140\n",
            "Epoch 18/100\n",
            "112/112 [==============================] - 0s 3ms/step - loss: 0.0139\n",
            "Epoch 19/100\n",
            "112/112 [==============================] - 0s 3ms/step - loss: 0.0133\n",
            "Epoch 20/100\n",
            "112/112 [==============================] - 0s 3ms/step - loss: 0.0131\n",
            "Epoch 21/100\n",
            "112/112 [==============================] - 0s 3ms/step - loss: 0.0131\n",
            "Epoch 22/100\n",
            "112/112 [==============================] - 0s 3ms/step - loss: 0.0129\n",
            "Epoch 23/100\n",
            "112/112 [==============================] - 0s 2ms/step - loss: 0.0129\n",
            "Epoch 24/100\n",
            "112/112 [==============================] - 0s 2ms/step - loss: 0.0129\n",
            "Epoch 25/100\n",
            "112/112 [==============================] - 0s 2ms/step - loss: 0.0125\n",
            "Epoch 26/100\n",
            "112/112 [==============================] - 0s 2ms/step - loss: 0.0125\n",
            "Epoch 27/100\n",
            "112/112 [==============================] - 0s 2ms/step - loss: 0.0123\n",
            "Epoch 28/100\n",
            "112/112 [==============================] - 0s 2ms/step - loss: 0.0120\n",
            "Epoch 29/100\n",
            "112/112 [==============================] - 0s 2ms/step - loss: 0.0117\n",
            "Epoch 30/100\n",
            "112/112 [==============================] - 0s 2ms/step - loss: 0.0121\n",
            "Epoch 31/100\n",
            "112/112 [==============================] - 0s 2ms/step - loss: 0.0113\n",
            "Epoch 32/100\n",
            "112/112 [==============================] - 0s 2ms/step - loss: 0.0115\n",
            "Epoch 33/100\n",
            "112/112 [==============================] - 0s 2ms/step - loss: 0.0113\n",
            "Epoch 34/100\n",
            "112/112 [==============================] - 0s 2ms/step - loss: 0.0115\n",
            "Epoch 35/100\n",
            "112/112 [==============================] - 0s 2ms/step - loss: 0.0111\n",
            "Epoch 36/100\n",
            "112/112 [==============================] - 0s 2ms/step - loss: 0.0111\n",
            "Epoch 37/100\n",
            "112/112 [==============================] - 0s 2ms/step - loss: 0.0112\n",
            "Epoch 38/100\n",
            "112/112 [==============================] - 0s 2ms/step - loss: 0.0113\n",
            "Epoch 39/100\n",
            "112/112 [==============================] - 0s 2ms/step - loss: 0.0111\n",
            "Epoch 40/100\n",
            "112/112 [==============================] - 0s 2ms/step - loss: 0.0109\n",
            "Epoch 41/100\n",
            "112/112 [==============================] - 0s 2ms/step - loss: 0.0109\n",
            "Epoch 42/100\n",
            "112/112 [==============================] - 0s 2ms/step - loss: 0.0110\n",
            "Epoch 43/100\n",
            "112/112 [==============================] - 0s 2ms/step - loss: 0.0110\n",
            "Epoch 44/100\n",
            "112/112 [==============================] - 0s 2ms/step - loss: 0.0111\n",
            "Epoch 45/100\n",
            "112/112 [==============================] - 0s 2ms/step - loss: 0.0110\n",
            "Epoch 46/100\n",
            "112/112 [==============================] - 0s 2ms/step - loss: 0.0108\n",
            "Epoch 47/100\n",
            "112/112 [==============================] - 0s 2ms/step - loss: 0.0108\n",
            "Epoch 48/100\n",
            "112/112 [==============================] - 0s 2ms/step - loss: 0.0106\n",
            "Epoch 49/100\n",
            "112/112 [==============================] - 0s 2ms/step - loss: 0.0106\n",
            "Epoch 50/100\n",
            "112/112 [==============================] - 0s 2ms/step - loss: 0.0104\n",
            "Epoch 51/100\n",
            "112/112 [==============================] - 0s 2ms/step - loss: 0.0107\n",
            "Epoch 52/100\n",
            "112/112 [==============================] - 0s 2ms/step - loss: 0.0107\n",
            "Epoch 53/100\n",
            "112/112 [==============================] - 0s 2ms/step - loss: 0.0105\n",
            "Epoch 54/100\n",
            "112/112 [==============================] - 0s 2ms/step - loss: 0.0107\n",
            "Epoch 55/100\n",
            "112/112 [==============================] - 0s 2ms/step - loss: 0.0103\n",
            "Epoch 56/100\n",
            "112/112 [==============================] - 0s 2ms/step - loss: 0.0106\n",
            "Epoch 57/100\n",
            "112/112 [==============================] - 0s 2ms/step - loss: 0.0104\n",
            "Epoch 58/100\n",
            "112/112 [==============================] - 0s 2ms/step - loss: 0.0104\n",
            "Epoch 59/100\n",
            "112/112 [==============================] - 0s 2ms/step - loss: 0.0103\n",
            "Epoch 60/100\n",
            "112/112 [==============================] - 0s 2ms/step - loss: 0.0106\n",
            "Epoch 61/100\n",
            "112/112 [==============================] - 0s 2ms/step - loss: 0.0104\n",
            "Epoch 62/100\n",
            "112/112 [==============================] - 0s 2ms/step - loss: 0.0104\n",
            "Epoch 63/100\n",
            "112/112 [==============================] - 0s 2ms/step - loss: 0.0104\n",
            "Epoch 64/100\n",
            "112/112 [==============================] - 0s 2ms/step - loss: 0.0103\n",
            "Epoch 65/100\n",
            "112/112 [==============================] - 0s 2ms/step - loss: 0.0104\n",
            "Epoch 66/100\n",
            "112/112 [==============================] - 0s 2ms/step - loss: 0.0102\n",
            "Epoch 67/100\n",
            "112/112 [==============================] - 0s 2ms/step - loss: 0.0102\n",
            "Epoch 68/100\n",
            "112/112 [==============================] - 0s 2ms/step - loss: 0.0100\n",
            "Epoch 69/100\n",
            "112/112 [==============================] - 0s 2ms/step - loss: 0.0098\n",
            "Epoch 70/100\n",
            "112/112 [==============================] - 0s 2ms/step - loss: 0.0102\n",
            "Epoch 71/100\n",
            "112/112 [==============================] - 0s 2ms/step - loss: 0.0099\n",
            "Epoch 72/100\n",
            "112/112 [==============================] - 0s 2ms/step - loss: 0.0101\n",
            "Epoch 73/100\n",
            "112/112 [==============================] - 0s 2ms/step - loss: 0.0101\n",
            "Epoch 74/100\n",
            "112/112 [==============================] - 0s 2ms/step - loss: 0.0099\n",
            "Epoch 75/100\n",
            "112/112 [==============================] - 0s 2ms/step - loss: 0.0099\n",
            "Epoch 76/100\n",
            "112/112 [==============================] - 0s 2ms/step - loss: 0.0097\n",
            "Epoch 77/100\n",
            "112/112 [==============================] - 0s 2ms/step - loss: 0.0099\n",
            "Epoch 78/100\n",
            "112/112 [==============================] - 0s 2ms/step - loss: 0.0101\n",
            "Epoch 79/100\n",
            "112/112 [==============================] - 0s 2ms/step - loss: 0.0098\n",
            "Epoch 80/100\n",
            "112/112 [==============================] - 0s 2ms/step - loss: 0.0099\n",
            "Epoch 81/100\n",
            "112/112 [==============================] - 0s 2ms/step - loss: 0.0101\n",
            "Epoch 82/100\n",
            "112/112 [==============================] - 0s 2ms/step - loss: 0.0099\n",
            "Epoch 83/100\n",
            "112/112 [==============================] - 0s 2ms/step - loss: 0.0100\n",
            "Epoch 84/100\n",
            "112/112 [==============================] - 0s 2ms/step - loss: 0.0100\n",
            "Epoch 85/100\n",
            "112/112 [==============================] - 0s 2ms/step - loss: 0.0097\n",
            "Epoch 86/100\n",
            "112/112 [==============================] - 0s 2ms/step - loss: 0.0098\n",
            "Epoch 87/100\n",
            "112/112 [==============================] - 0s 2ms/step - loss: 0.0101\n",
            "Epoch 88/100\n",
            "112/112 [==============================] - 0s 2ms/step - loss: 0.0099\n",
            "Epoch 89/100\n",
            "112/112 [==============================] - 0s 2ms/step - loss: 0.0102\n",
            "Epoch 90/100\n",
            "112/112 [==============================] - 0s 2ms/step - loss: 0.0098\n",
            "Epoch 91/100\n",
            "112/112 [==============================] - 0s 2ms/step - loss: 0.0102\n",
            "Epoch 92/100\n",
            "112/112 [==============================] - 0s 2ms/step - loss: 0.0098\n",
            "Epoch 93/100\n",
            "112/112 [==============================] - 0s 2ms/step - loss: 0.0099\n",
            "Epoch 94/100\n",
            "112/112 [==============================] - 0s 2ms/step - loss: 0.0097\n",
            "Epoch 95/100\n",
            "112/112 [==============================] - 0s 2ms/step - loss: 0.0100\n",
            "Epoch 96/100\n",
            "112/112 [==============================] - 0s 2ms/step - loss: 0.0098\n",
            "Epoch 97/100\n",
            "112/112 [==============================] - 0s 2ms/step - loss: 0.0097\n",
            "Epoch 98/100\n",
            "112/112 [==============================] - 0s 2ms/step - loss: 0.0097\n",
            "Epoch 99/100\n",
            "112/112 [==============================] - 0s 2ms/step - loss: 0.0098\n",
            "Epoch 100/100\n",
            "112/112 [==============================] - 0s 2ms/step - loss: 0.0095\n"
          ]
        }
      ]
    },
    {
      "cell_type": "code",
      "source": [
        "x_pred3 = autoencoderTO.predict(df)\n",
        "res3 = pd.DataFrame(y)\n",
        "res3['err_test'] = np.mean(np.abs(df - x_pred3)**2, axis = tuple(range(1, df.ndim)))\n",
        "\n",
        "res3.index = range(3632) # reseteamos los índices para poder comparar los resultados"
      ],
      "metadata": {
        "id": "-PKuWZCJxQjS"
      },
      "execution_count": null,
      "outputs": []
    },
    {
      "cell_type": "code",
      "source": [
        "hab = []\n",
        "fn_tresh = np.mean(res3['err_test']) + 3*np.std(res3['err_test'])\n",
        "\n",
        "for err in res3['err_test']:\n",
        "  if err > fn_tresh:\n",
        "    hab.append(1)\n",
        "  else:\n",
        "    hab.append(0)\n",
        "\n",
        "\n",
        "acc = np.sum(hab == res3['P. Habitable Class'])/df.shape[0]\n",
        "print('El porcentaje de acierto comparado con las etiquetas es: ',acc)"
      ],
      "metadata": {
        "colab": {
          "base_uri": "https://localhost:8080/"
        },
        "id": "R0z0LGeOEsqQ",
        "outputId": "33205680-4fa7-47ee-c531-301e08191e89"
      },
      "execution_count": null,
      "outputs": [
        {
          "output_type": "stream",
          "name": "stdout",
          "text": [
            "El porcentaje de acierto comparado con las etiquetas es:  0.9909140969162996\n"
          ]
        }
      ]
    },
    {
      "cell_type": "code",
      "source": [
        "hab = np.array(hab)\n",
        "TP = np.sum(np.logical_and(hab == 1, res3['P. Habitable Class'] == 1))\n",
        "TN = np.sum(np.logical_and(hab == 0, res3['P. Habitable Class'] == 0))\n",
        "FN = np.sum(np.logical_and(hab == 0, res3['P. Habitable Class'] == 1))\n",
        "FP = np.sum(np.logical_and(hab == 1, res3['P. Habitable Class'] == 0))\n",
        "\n",
        "M = [[TN, FN],\n",
        "     [FP, TP]]\n",
        "df_cm = pd.DataFrame(M, range(2), range(2))\n",
        "sns.set(font_scale=1.4) # for label size\n",
        "sns.heatmap(df_cm, annot=True, annot_kws={\"size\": 16}).set(title='Confusion Matrix') # font size\n",
        "\n",
        "plt.show()"
      ],
      "metadata": {
        "colab": {
          "base_uri": "https://localhost:8080/",
          "height": 293
        },
        "id": "3RanO6nVF_NG",
        "outputId": "8f66f915-ef0f-480c-b03b-13b94545e0c0"
      },
      "execution_count": null,
      "outputs": [
        {
          "output_type": "display_data",
          "data": {
            "text/plain": [
              "<Figure size 432x288 with 2 Axes>"
            ],
            "image/png": "[encoded data removed]"
          },
          "metadata": {}
        }
      ]
    },
    {
      "cell_type": "code",
      "source": [
        "%matplotlib inline\n",
        "\n",
        "plt.figure()\n",
        "plt.scatter(range(len(res3['err_test'])), res3['err_test'], marker = '+', c = res3['P. Habitable Class'], cmap='viridis')\n",
        "plt.axhline(y=fn_tresh, color='r', linestyle='-')\n"
      ],
      "metadata": {
        "colab": {
          "base_uri": "https://localhost:8080/",
          "height": 290
        },
        "id": "6W0p530qGpbu",
        "outputId": "991ec810-ce44-4299-999c-373ea7ca1c0c"
      },
      "execution_count": null,
      "outputs": [
        {
          "output_type": "execute_result",
          "data": {
            "text/plain": [
              "<matplotlib.lines.Line2D at 0x7fc5e4d31f10>"
            ]
          },
          "metadata": {},
          "execution_count": 366
        },
        {
          "output_type": "display_data",
          "data": {
            "text/plain": [
              "<Figure size 432x288 with 1 Axes>"
            ],
            "image/png": "[encoded data removed]"
          },
          "metadata": {
            "needs_background": "light"
          }
        }
      ]
    },
    {
      "cell_type": "code",
      "source": [
        "print('Obtenemos una precission de: ',TP/(TP + FP))"
      ],
      "metadata": {
        "id": "lWGcEtT5cSiF",
        "colab": {
          "base_uri": "https://localhost:8080/"
        },
        "outputId": "b31bc62e-85c1-4fba-c781-be45cd392f74"
      },
      "execution_count": null,
      "outputs": [
        {
          "output_type": "stream",
          "name": "stdout",
          "text": [
            "Obtenemos una precission de:  0.6309523809523809\n"
          ]
        }
      ]
    },
    {
      "cell_type": "markdown",
      "source": [
        "# 5. Conclusiones\n",
        "En los tres casos hemos sido capaces de construir un clasificador capaz de clasificar los planetas en función de su habitabilidad. Sin embargo, los resultados de precisión entorno al 65% en el primer y tercer apartados, aunque bastante buenos, implican que para un nuevo planeta descubierto y clasificado como habitable, existe una probabilidad significativa de ser un falso positivo. El segundo clasificador sin embargo obtiene resultados muy buenos."
      ],
      "metadata": {
        "id": "5d2V6OuugKTk"
      }
    }
  ]
}